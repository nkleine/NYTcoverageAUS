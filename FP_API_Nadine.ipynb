{
 "cells": [
  {
   "cell_type": "markdown",
   "id": "7f268183",
   "metadata": {},
   "source": [
    "# NYT API Wrapper"
   ]
  },
  {
   "cell_type": "markdown",
   "id": "f3dccdaa",
   "metadata": {},
   "source": [
    "## Installing the Wrapper for NYT-API:"
   ]
  },
  {
   "cell_type": "code",
   "execution_count": 1,
   "id": "4efe94a5",
   "metadata": {},
   "outputs": [
    {
     "name": "stdout",
     "output_type": "stream",
     "text": [
      "Defaulting to user installation because normal site-packages is not writeable\n",
      "Collecting pynytimes\n",
      "  Downloading pynytimes-0.8.0-py3-none-any.whl (21 kB)\n",
      "Requirement already satisfied: urllib3 in c:\\programdata\\anaconda3\\lib\\site-packages (from pynytimes) (1.26.9)\n",
      "Requirement already satisfied: requests<3.0.0,>=2.10.0 in c:\\programdata\\anaconda3\\lib\\site-packages (from pynytimes) (2.27.1)\n",
      "Requirement already satisfied: idna<4,>=2.5 in c:\\programdata\\anaconda3\\lib\\site-packages (from requests<3.0.0,>=2.10.0->pynytimes) (3.3)\n",
      "Requirement already satisfied: charset-normalizer~=2.0.0 in c:\\programdata\\anaconda3\\lib\\site-packages (from requests<3.0.0,>=2.10.0->pynytimes) (2.0.4)\n",
      "Requirement already satisfied: certifi>=2017.4.17 in c:\\programdata\\anaconda3\\lib\\site-packages (from requests<3.0.0,>=2.10.0->pynytimes) (2021.10.8)\n",
      "Installing collected packages: pynytimes\n",
      "Successfully installed pynytimes-0.8.0\n",
      "Note: you may need to restart the kernel to use updated packages.\n"
     ]
    }
   ],
   "source": [
    "pip install --upgrade pynytimes"
   ]
  },
  {
   "cell_type": "code",
   "execution_count": 2,
   "id": "014d62c6",
   "metadata": {},
   "outputs": [],
   "source": [
    "from pynytimes import NYTAPI"
   ]
  },
  {
   "cell_type": "code",
   "execution_count": null,
   "id": "41396f4f",
   "metadata": {},
   "outputs": [],
   "source": []
  },
  {
   "cell_type": "code",
   "execution_count": null,
   "id": "a7592fdc",
   "metadata": {},
   "outputs": [],
   "source": [
    "# Secure authentication with key:"
   ]
  },
  {
   "cell_type": "code",
   "execution_count": 3,
   "id": "9b0ba30f",
   "metadata": {},
   "outputs": [],
   "source": [
    "secrets_file = open(\"NYTsecrets.txt\",\"r\")"
   ]
  },
  {
   "cell_type": "code",
   "execution_count": 4,
   "id": "0fde8c75",
   "metadata": {},
   "outputs": [],
   "source": [
    "key = secrets_file.read()"
   ]
  },
  {
   "cell_type": "code",
   "execution_count": 5,
   "id": "461efda2",
   "metadata": {},
   "outputs": [
    {
     "data": {
      "text/plain": [
       "'jVkNbINrPlSiPdVnDAO9VEdp1hSKozA2'"
      ]
     },
     "execution_count": 5,
     "metadata": {},
     "output_type": "execute_result"
    }
   ],
   "source": [
    "key"
   ]
  },
  {
   "cell_type": "code",
   "execution_count": 6,
   "id": "79abd3bc",
   "metadata": {},
   "outputs": [],
   "source": [
    "nyt = NYTAPI(key, parse_dates=True)"
   ]
  },
  {
   "cell_type": "code",
   "execution_count": null,
   "id": "adb19cee",
   "metadata": {},
   "outputs": [],
   "source": []
  },
  {
   "cell_type": "markdown",
   "id": "ae5137d1",
   "metadata": {},
   "source": [
    "## Articles Query: "
   ]
  },
  {
   "cell_type": "code",
   "execution_count": 199,
   "id": "ae467e27",
   "metadata": {},
   "outputs": [],
   "source": [
    "import datetime"
   ]
  },
  {
   "cell_type": "code",
   "execution_count": null,
   "id": "9cc2325a",
   "metadata": {},
   "outputs": [],
   "source": [
    "# Articles Search 1_1/2 (01.05.22-31.10.22): "
   ]
  },
  {
   "cell_type": "code",
   "execution_count": 195,
   "id": "4cdaca5a",
   "metadata": {},
   "outputs": [],
   "source": [
    "articles = nyt.article_search(\n",
    "    query = \"Australia\",\n",
    "    results = 2500,\n",
    "    dates = {\n",
    "        \"begin\": datetime.datetime(2022, 5, 1),\n",
    "        \"end\": datetime.datetime(2022, 10, 31)\n",
    "    },\n",
    ")"
   ]
  },
  {
   "cell_type": "code",
   "execution_count": 196,
   "id": "1a9cbba5",
   "metadata": {},
   "outputs": [
    {
     "data": {
      "text/plain": [
       "1064"
      ]
     },
     "execution_count": 196,
     "metadata": {},
     "output_type": "execute_result"
    }
   ],
   "source": [
    "len(articles)"
   ]
  },
  {
   "cell_type": "code",
   "execution_count": null,
   "id": "fe0c1295",
   "metadata": {},
   "outputs": [],
   "source": [
    "# Articles Search 1_2/2 (01.11.21-30.04.22): "
   ]
  },
  {
   "cell_type": "code",
   "execution_count": 197,
   "id": "fb408eaa",
   "metadata": {},
   "outputs": [],
   "source": [
    "articles_2 = nyt.article_search(\n",
    "    query = \"Australia\",\n",
    "    results = 2500,\n",
    "    dates = {\n",
    "        \"begin\": datetime.datetime(2021, 11, 1),\n",
    "        \"end\": datetime.datetime(2022, 4, 30)\n",
    "    },\n",
    ")"
   ]
  },
  {
   "cell_type": "code",
   "execution_count": 198,
   "id": "9b2cef7d",
   "metadata": {},
   "outputs": [
    {
     "data": {
      "text/plain": [
       "1239"
      ]
     },
     "execution_count": 198,
     "metadata": {},
     "output_type": "execute_result"
    }
   ],
   "source": [
    "len(articles_2)"
   ]
  },
  {
   "cell_type": "code",
   "execution_count": null,
   "id": "e494c2d1",
   "metadata": {},
   "outputs": [],
   "source": [
    "# Articles Search 2_1/2 (01.05.21-31.10.21):"
   ]
  },
  {
   "cell_type": "code",
   "execution_count": 200,
   "id": "903af3eb",
   "metadata": {},
   "outputs": [],
   "source": [
    "articles2_1 = nyt.article_search(\n",
    "    query = \"Australia\",\n",
    "    results = 2500,\n",
    "    dates = {\n",
    "        \"begin\": datetime.datetime(2021, 5, 1),\n",
    "        \"end\": datetime.datetime(2021, 10, 31)\n",
    "    },\n",
    ")"
   ]
  },
  {
   "cell_type": "code",
   "execution_count": 201,
   "id": "e80626be",
   "metadata": {},
   "outputs": [
    {
     "data": {
      "text/plain": [
       "1379"
      ]
     },
     "execution_count": 201,
     "metadata": {},
     "output_type": "execute_result"
    }
   ],
   "source": [
    "len(articles2_1)"
   ]
  },
  {
   "cell_type": "code",
   "execution_count": null,
   "id": "fe9bc3fb",
   "metadata": {},
   "outputs": [],
   "source": [
    "# Articles Search 2_2/2 (01.11.20-30.04.21):"
   ]
  },
  {
   "cell_type": "code",
   "execution_count": 203,
   "id": "430ea33e",
   "metadata": {},
   "outputs": [],
   "source": [
    "articles2_2 = nyt.article_search(\n",
    "    query = \"Australia\",\n",
    "    results = 2500,\n",
    "    dates = {\n",
    "        \"begin\": datetime.datetime(2020, 11, 1),\n",
    "        \"end\": datetime.datetime(2021, 4, 30)\n",
    "    },\n",
    ")"
   ]
  },
  {
   "cell_type": "code",
   "execution_count": 204,
   "id": "c54a44d6",
   "metadata": {},
   "outputs": [
    {
     "data": {
      "text/plain": [
       "1186"
      ]
     },
     "execution_count": 204,
     "metadata": {},
     "output_type": "execute_result"
    }
   ],
   "source": [
    "len(articles2_2)"
   ]
  },
  {
   "cell_type": "code",
   "execution_count": null,
   "id": "5852e141",
   "metadata": {},
   "outputs": [],
   "source": [
    "# Articles Search 3_1 (01.05.20-31.10.20): "
   ]
  },
  {
   "cell_type": "code",
   "execution_count": 205,
   "id": "e559c067",
   "metadata": {},
   "outputs": [],
   "source": [
    "articles3_1 = nyt.article_search(\n",
    "    query = \"Australia\",\n",
    "    results = 2500,\n",
    "    dates = {\n",
    "        \"begin\": datetime.datetime(2020, 5, 1),\n",
    "        \"end\": datetime.datetime(2020, 10, 31)\n",
    "    },\n",
    ")"
   ]
  },
  {
   "cell_type": "code",
   "execution_count": 206,
   "id": "d3ef2df3",
   "metadata": {},
   "outputs": [
    {
     "data": {
      "text/plain": [
       "1279"
      ]
     },
     "execution_count": 206,
     "metadata": {},
     "output_type": "execute_result"
    }
   ],
   "source": [
    "len(articles3_1)"
   ]
  },
  {
   "cell_type": "code",
   "execution_count": 134,
   "id": "c57f8b7d",
   "metadata": {},
   "outputs": [
    {
     "name": "stdout",
     "output_type": "stream",
     "text": [
      "The New York Times\n"
     ]
    }
   ],
   "source": [
    "# Articles Search 3_2 (01.11.19-30.04.20): "
   ]
  },
  {
   "cell_type": "code",
   "execution_count": 207,
   "id": "ff39af50",
   "metadata": {},
   "outputs": [],
   "source": [
    "articles3_2 = nyt.article_search(\n",
    "    query = \"Australia\",\n",
    "    results = 2500,\n",
    "    dates = {\n",
    "        \"begin\": datetime.datetime(2019, 11, 1),\n",
    "        \"end\": datetime.datetime(2020, 4, 30)\n",
    "    },\n",
    ")"
   ]
  },
  {
   "cell_type": "code",
   "execution_count": 208,
   "id": "418b65b2",
   "metadata": {},
   "outputs": [
    {
     "data": {
      "text/plain": [
       "1511"
      ]
     },
     "execution_count": 208,
     "metadata": {},
     "output_type": "execute_result"
    }
   ],
   "source": [
    "len(articles3_2)"
   ]
  },
  {
   "cell_type": "code",
   "execution_count": null,
   "id": "df2b75b2",
   "metadata": {},
   "outputs": [],
   "source": [
    "# Articles Search 4_1 (01.05.19-31.10.19): "
   ]
  },
  {
   "cell_type": "code",
   "execution_count": 209,
   "id": "2609fe20",
   "metadata": {},
   "outputs": [],
   "source": [
    "articles4_1 = nyt.article_search(\n",
    "    query = \"Australia\",\n",
    "    results = 2500,\n",
    "    dates = {\n",
    "        \"begin\": datetime.datetime(2019, 5, 1),\n",
    "        \"end\": datetime.datetime(2019, 10, 31)\n",
    "    },\n",
    ")"
   ]
  },
  {
   "cell_type": "code",
   "execution_count": 210,
   "id": "e89f7c2b",
   "metadata": {},
   "outputs": [
    {
     "data": {
      "text/plain": [
       "1427"
      ]
     },
     "execution_count": 210,
     "metadata": {},
     "output_type": "execute_result"
    }
   ],
   "source": [
    "len(articles4_1)"
   ]
  },
  {
   "cell_type": "code",
   "execution_count": null,
   "id": "efdfa9a9",
   "metadata": {},
   "outputs": [],
   "source": [
    "# Articles Search 4_2 (01.11.18-30.4.19): "
   ]
  },
  {
   "cell_type": "code",
   "execution_count": 211,
   "id": "ce2520ac",
   "metadata": {},
   "outputs": [],
   "source": [
    "articles4_2 = nyt.article_search(\n",
    "    query = \"Australia\",\n",
    "    results = 2500,\n",
    "    dates = {\n",
    "        \"begin\": datetime.datetime(2018, 11, 1),\n",
    "        \"end\": datetime.datetime(2019, 4, 30)\n",
    "    },\n",
    ")"
   ]
  },
  {
   "cell_type": "code",
   "execution_count": 212,
   "id": "992e84ef",
   "metadata": {},
   "outputs": [
    {
     "data": {
      "text/plain": [
       "1630"
      ]
     },
     "execution_count": 212,
     "metadata": {},
     "output_type": "execute_result"
    }
   ],
   "source": [
    "len(articles4_2)"
   ]
  },
  {
   "cell_type": "code",
   "execution_count": null,
   "id": "36e8b3af",
   "metadata": {},
   "outputs": [],
   "source": [
    "# Articles Search 5_1 (01.05.18-31.10.18): "
   ]
  },
  {
   "cell_type": "code",
   "execution_count": 213,
   "id": "fdaedc05",
   "metadata": {},
   "outputs": [],
   "source": [
    "articles5_1 = nyt.article_search(\n",
    "    query = \"Australia\",\n",
    "    results = 2500,\n",
    "    dates = {\n",
    "        \"begin\": datetime.datetime(2018, 5, 1),\n",
    "        \"end\": datetime.datetime(2018, 10, 31)\n",
    "    },\n",
    ")"
   ]
  },
  {
   "cell_type": "code",
   "execution_count": 214,
   "id": "51095373",
   "metadata": {},
   "outputs": [
    {
     "data": {
      "text/plain": [
       "1769"
      ]
     },
     "execution_count": 214,
     "metadata": {},
     "output_type": "execute_result"
    }
   ],
   "source": [
    "len(articles5_1)"
   ]
  },
  {
   "cell_type": "code",
   "execution_count": null,
   "id": "2de02b84",
   "metadata": {},
   "outputs": [],
   "source": [
    "# Articles Search 5_2 (01.11.17-30.04.18): "
   ]
  },
  {
   "cell_type": "code",
   "execution_count": 215,
   "id": "ae947e22",
   "metadata": {},
   "outputs": [],
   "source": [
    "articles5_2 = nyt.article_search(\n",
    "    query = \"Australia\",\n",
    "    results = 2500,\n",
    "    dates = {\n",
    "        \"begin\": datetime.datetime(2017, 11, 1),\n",
    "        \"end\": datetime.datetime(2018, 4, 30)\n",
    "    },\n",
    ")"
   ]
  },
  {
   "cell_type": "code",
   "execution_count": 216,
   "id": "8b39dec2",
   "metadata": {},
   "outputs": [
    {
     "data": {
      "text/plain": [
       "1570"
      ]
     },
     "execution_count": 216,
     "metadata": {},
     "output_type": "execute_result"
    }
   ],
   "source": [
    "len(articles5_2)"
   ]
  },
  {
   "cell_type": "code",
   "execution_count": null,
   "id": "ea6b6b6a",
   "metadata": {},
   "outputs": [],
   "source": []
  },
  {
   "cell_type": "markdown",
   "id": "93ea6bda",
   "metadata": {},
   "source": [
    "## Selecting interesting features for df: "
   ]
  },
  {
   "cell_type": "code",
   "execution_count": 263,
   "id": "72462515",
   "metadata": {},
   "outputs": [],
   "source": [
    "web_url = []\n",
    "source = []\n",
    "headline = []\n",
    "keywords_val1 = []\n",
    "keywords_val2 = []\n",
    "keywords_val3 = []\n",
    "keywords_val4 = []\n",
    "keywords_val5 = []\n",
    "pub_date = []\n",
    "document_type = []\n",
    "news_desk = []\n",
    "section_name = []\n",
    "subsection_name = []\n",
    "type_of_material = []\n",
    "word_count = []"
   ]
  },
  {
   "cell_type": "code",
   "execution_count": null,
   "id": "a0d513ee",
   "metadata": {},
   "outputs": [],
   "source": [
    "# For loop one by one:"
   ]
  },
  {
   "cell_type": "code",
   "execution_count": 127,
   "id": "129745f2",
   "metadata": {},
   "outputs": [],
   "source": [
    "for i in range(len(articles)):\n",
    "    try: web_url.append(articles[i]['web_url'])\n",
    "    except: web_url.append(['NaN'])"
   ]
  },
  {
   "cell_type": "code",
   "execution_count": 144,
   "id": "43beecc2",
   "metadata": {},
   "outputs": [],
   "source": [
    "for i in range(len(articles)):\n",
    "    try: source.append(articles[i]['source'])\n",
    "    except: source.append(['NaN'])"
   ]
  },
  {
   "cell_type": "code",
   "execution_count": 146,
   "id": "646e49fd",
   "metadata": {},
   "outputs": [
    {
     "data": {
      "text/plain": [
       "2010"
      ]
     },
     "execution_count": 146,
     "metadata": {},
     "output_type": "execute_result"
    }
   ],
   "source": [
    "for i in range(len(articles)):\n",
    "    try: headline.append(articles[i]['headline']['main'])\n",
    "    except: headline.append(['NaN'])"
   ]
  },
  {
   "cell_type": "code",
   "execution_count": 147,
   "id": "5c779058",
   "metadata": {},
   "outputs": [],
   "source": [
    "for i in range(len(articles)):\n",
    "    try: keywords_val1.append(articles[i]['keywords'][0]['value'])\n",
    "    except: keywords_val1.append(['NaN'])"
   ]
  },
  {
   "cell_type": "code",
   "execution_count": 170,
   "id": "cbe5147f",
   "metadata": {},
   "outputs": [
    {
     "data": {
      "text/plain": [
       "2010"
      ]
     },
     "execution_count": 170,
     "metadata": {},
     "output_type": "execute_result"
    }
   ],
   "source": [
    "len(word_count)"
   ]
  },
  {
   "cell_type": "code",
   "execution_count": 151,
   "id": "92c52ece",
   "metadata": {},
   "outputs": [],
   "source": [
    "for i in range(len(articles)):\n",
    "    try: keywords_val2.append(articles[i]['keywords'][1]['value'])\n",
    "    except: keywords_val2.append(['NaN'])"
   ]
  },
  {
   "cell_type": "code",
   "execution_count": 152,
   "id": "10d26f08",
   "metadata": {},
   "outputs": [],
   "source": [
    "for i in range(len(articles)):\n",
    "    try: keywords_val3.append(articles[i]['keywords'][2]['value'])\n",
    "    except: keywords_val3.append(['NaN'])"
   ]
  },
  {
   "cell_type": "code",
   "execution_count": 153,
   "id": "652aca80",
   "metadata": {},
   "outputs": [],
   "source": [
    "for i in range(len(articles)):\n",
    "    try: keywords_val4.append(articles[i]['keywords'][3]['value'])\n",
    "    except: keywords_val4.append(['NaN'])"
   ]
  },
  {
   "cell_type": "code",
   "execution_count": 156,
   "id": "73d9d711",
   "metadata": {},
   "outputs": [],
   "source": [
    "for i in range(len(articles)):\n",
    "    try: keywords_val5.append(articles[i]['keywords'][4]['value'])\n",
    "    except: keywords_val5.append(['NaN'])"
   ]
  },
  {
   "cell_type": "code",
   "execution_count": 158,
   "id": "082877ee",
   "metadata": {},
   "outputs": [],
   "source": [
    "for i in range(len(articles)):\n",
    "    try: pub_date.append(articles[i]['pub_date'])\n",
    "    except: pub_date.append(['NaN'])"
   ]
  },
  {
   "cell_type": "code",
   "execution_count": 160,
   "id": "c1927606",
   "metadata": {},
   "outputs": [],
   "source": [
    "for i in range(len(articles)):\n",
    "    try: document_type.append(articles[i]['document_type'])\n",
    "    except: document_type.append(['NaN'])"
   ]
  },
  {
   "cell_type": "code",
   "execution_count": 161,
   "id": "ca581170",
   "metadata": {},
   "outputs": [],
   "source": [
    "for i in range(len(articles)):\n",
    "    try: news_desk.append(articles[i]['news_desk'])\n",
    "    except: news_desk.append(['NaN'])"
   ]
  },
  {
   "cell_type": "code",
   "execution_count": 164,
   "id": "27ec2d2f",
   "metadata": {},
   "outputs": [],
   "source": [
    "for i in range(len(articles)):\n",
    "    try: section_name.append(articles[i]['section_name'])\n",
    "    except: section_name.append(['NaN'])"
   ]
  },
  {
   "cell_type": "code",
   "execution_count": 163,
   "id": "61f0315f",
   "metadata": {},
   "outputs": [],
   "source": [
    "for i in range(len(articles)):\n",
    "    try: subsection_name.append(articles[i]['subsection_name'])\n",
    "    except: subsection_name.append(['NaN'])"
   ]
  },
  {
   "cell_type": "code",
   "execution_count": 167,
   "id": "8017379e",
   "metadata": {},
   "outputs": [],
   "source": [
    "for i in range(len(articles)):\n",
    "    try: type_of_material.append(articles[i]['type_of_material'])\n",
    "    except: type_of_material.append(['NaN'])"
   ]
  },
  {
   "cell_type": "code",
   "execution_count": 168,
   "id": "4252c872",
   "metadata": {},
   "outputs": [],
   "source": [
    "for i in range(len(articles)):\n",
    "    try: word_count.append(articles[i]['word_count'])\n",
    "    except: word_count.append(['NaN'])"
   ]
  },
  {
   "cell_type": "code",
   "execution_count": null,
   "id": "f33859ae",
   "metadata": {},
   "outputs": [],
   "source": [
    "# Building a function:"
   ]
  },
  {
   "cell_type": "code",
   "execution_count": 264,
   "id": "832d74c5",
   "metadata": {},
   "outputs": [],
   "source": [
    "import numpy as np"
   ]
  },
  {
   "cell_type": "code",
   "execution_count": 265,
   "id": "07bdb839",
   "metadata": {},
   "outputs": [],
   "source": [
    "def listmaker(articles):\n",
    "    for i in range(len(articles)):\n",
    "        try: web_url.append(articles[i]['web_url'])\n",
    "        except: web_url.append(np.nan)\n",
    "    for i in range(len(articles)):\n",
    "        try: source.append(articles[i]['source'])\n",
    "        except: source.append(np.nan)\n",
    "    for i in range(len(articles)):\n",
    "        try: headline.append(articles[i]['headline']['main'])\n",
    "        except: headline.append(np.nan)\n",
    "    for i in range(len(articles)):\n",
    "        try: keywords_val1.append(articles[i]['keywords'][0]['value'])\n",
    "        except: keywords_val1.append(np.nan)\n",
    "    for i in range(len(articles)):\n",
    "        try: keywords_val2.append(articles[i]['keywords'][1]['value'])\n",
    "        except: keywords_val2.append(np.nan)\n",
    "    for i in range(len(articles)):\n",
    "        try: keywords_val3.append(articles[i]['keywords'][2]['value'])\n",
    "        except: keywords_val3.append(np.nan)\n",
    "    for i in range(len(articles)):\n",
    "        try: keywords_val4.append(articles[i]['keywords'][3]['value'])\n",
    "        except: keywords_val4.append(np.nan)\n",
    "    for i in range(len(articles)):\n",
    "        try: keywords_val5.append(articles[i]['keywords'][4]['value'])\n",
    "        except: keywords_val5.append(np.nan)\n",
    "    for i in range(len(articles)):\n",
    "        try: pub_date.append(articles[i]['pub_date'])\n",
    "        except: pub_date.append(np.nan)\n",
    "    for i in range(len(articles)):\n",
    "        try: document_type.append(articles[i]['document_type'])\n",
    "        except: document_type.append(np.nan)\n",
    "    for i in range(len(articles)):\n",
    "        try: news_desk.append(articles[i]['news_desk'])\n",
    "        except: news_desk.append(np.nan)\n",
    "    for i in range(len(articles)):\n",
    "        try: section_name.append(articles[i]['section_name'])\n",
    "        except: section_name.append(np.nan)\n",
    "    for i in range(len(articles)):\n",
    "        try: subsection_name.append(articles[i]['subsection_name'])\n",
    "        except: subsection_name.append(np.nan)\n",
    "    for i in range(len(articles)):\n",
    "        try: type_of_material.append(articles[i]['type_of_material'])\n",
    "        except: type_of_material.append(np.nan)\n",
    "    for i in range(len(articles)):\n",
    "        try: word_count.append(articles[i]['word_count'])\n",
    "        except: word_count.append(np.nan)"
   ]
  },
  {
   "cell_type": "code",
   "execution_count": 266,
   "id": "79315643",
   "metadata": {},
   "outputs": [],
   "source": [
    "# Calling the function on all 5 queries:"
   ]
  },
  {
   "cell_type": "code",
   "execution_count": 267,
   "id": "137f4869",
   "metadata": {},
   "outputs": [],
   "source": [
    "listmaker(articles)"
   ]
  },
  {
   "cell_type": "code",
   "execution_count": 268,
   "id": "50f8c042",
   "metadata": {},
   "outputs": [],
   "source": [
    "listmaker(articles_2)"
   ]
  },
  {
   "cell_type": "code",
   "execution_count": 269,
   "id": "ae3419a6",
   "metadata": {},
   "outputs": [],
   "source": [
    "listmaker(articles2_1)"
   ]
  },
  {
   "cell_type": "code",
   "execution_count": 270,
   "id": "8459743f",
   "metadata": {},
   "outputs": [],
   "source": [
    "listmaker(articles2_2)"
   ]
  },
  {
   "cell_type": "code",
   "execution_count": 271,
   "id": "d5dc28d3",
   "metadata": {},
   "outputs": [],
   "source": [
    "listmaker(articles3_1)"
   ]
  },
  {
   "cell_type": "code",
   "execution_count": 272,
   "id": "0c3e1782",
   "metadata": {},
   "outputs": [],
   "source": [
    "listmaker(articles3_2)"
   ]
  },
  {
   "cell_type": "code",
   "execution_count": 273,
   "id": "734f5125",
   "metadata": {},
   "outputs": [],
   "source": [
    "listmaker(articles4_1)"
   ]
  },
  {
   "cell_type": "code",
   "execution_count": 274,
   "id": "8a5f3802",
   "metadata": {},
   "outputs": [],
   "source": [
    "listmaker(articles4_2)"
   ]
  },
  {
   "cell_type": "code",
   "execution_count": 275,
   "id": "b23797ad",
   "metadata": {},
   "outputs": [],
   "source": [
    "listmaker(articles5_1)"
   ]
  },
  {
   "cell_type": "code",
   "execution_count": 276,
   "id": "18725780",
   "metadata": {},
   "outputs": [],
   "source": [
    "listmaker(articles5_2)"
   ]
  },
  {
   "cell_type": "code",
   "execution_count": null,
   "id": "c98ecbb8",
   "metadata": {},
   "outputs": [],
   "source": []
  },
  {
   "cell_type": "code",
   "execution_count": null,
   "id": "b10f3eaf",
   "metadata": {},
   "outputs": [],
   "source": [
    "# List to Dataframe:"
   ]
  },
  {
   "cell_type": "code",
   "execution_count": 277,
   "id": "36f32586",
   "metadata": {},
   "outputs": [],
   "source": [
    "import pandas as pd"
   ]
  },
  {
   "cell_type": "code",
   "execution_count": 278,
   "id": "9d87425c",
   "metadata": {},
   "outputs": [],
   "source": [
    "NYTarticles = pd.DataFrame({'web_url' : web_url, 'source' : source, 'headline': headline, 'keyword1': keywords_val1, 'keyword2': keywords_val2, 'keyword3': keywords_val3, 'keyword4': keywords_val4, 'keyword5': keywords_val5, 'pub_date': pub_date, 'document_type': document_type, 'news_desk': news_desk, 'section_name': section_name, 'subsection_name': subsection_name, 'type_of_material': type_of_material, 'word_count': word_count})"
   ]
  },
  {
   "cell_type": "code",
   "execution_count": 279,
   "id": "d39a48b6",
   "metadata": {},
   "outputs": [
    {
     "data": {
      "text/plain": [
       "(14054, 15)"
      ]
     },
     "execution_count": 279,
     "metadata": {},
     "output_type": "execute_result"
    }
   ],
   "source": [
    "NYTarticles.shape"
   ]
  },
  {
   "cell_type": "code",
   "execution_count": 282,
   "id": "11f53d7b",
   "metadata": {},
   "outputs": [
    {
     "data": {
      "text/html": [
       "<div>\n",
       "<style scoped>\n",
       "    .dataframe tbody tr th:only-of-type {\n",
       "        vertical-align: middle;\n",
       "    }\n",
       "\n",
       "    .dataframe tbody tr th {\n",
       "        vertical-align: top;\n",
       "    }\n",
       "\n",
       "    .dataframe thead th {\n",
       "        text-align: right;\n",
       "    }\n",
       "</style>\n",
       "<table border=\"1\" class=\"dataframe\">\n",
       "  <thead>\n",
       "    <tr style=\"text-align: right;\">\n",
       "      <th></th>\n",
       "      <th>web_url</th>\n",
       "      <th>source</th>\n",
       "      <th>headline</th>\n",
       "      <th>keyword1</th>\n",
       "      <th>keyword2</th>\n",
       "      <th>keyword3</th>\n",
       "      <th>keyword4</th>\n",
       "      <th>keyword5</th>\n",
       "      <th>pub_date</th>\n",
       "      <th>document_type</th>\n",
       "      <th>news_desk</th>\n",
       "      <th>section_name</th>\n",
       "      <th>subsection_name</th>\n",
       "      <th>type_of_material</th>\n",
       "      <th>word_count</th>\n",
       "    </tr>\n",
       "  </thead>\n",
       "  <tbody>\n",
       "    <tr>\n",
       "      <th>0</th>\n",
       "      <td>https://www.nytimes.com/2022/10/30/world/austr...</td>\n",
       "      <td>The New York Times</td>\n",
       "      <td>Tensions Over Racism Rock Australian Netball</td>\n",
       "      <td>Australia</td>\n",
       "      <td>Netball (Sport)</td>\n",
       "      <td>Discrimination</td>\n",
       "      <td>Indigenous Australians</td>\n",
       "      <td>NaN</td>\n",
       "      <td>2022-10-30 10:53:55+00:00</td>\n",
       "      <td>article</td>\n",
       "      <td>Foreign</td>\n",
       "      <td>World</td>\n",
       "      <td>Australia</td>\n",
       "      <td>News</td>\n",
       "      <td>1321</td>\n",
       "    </tr>\n",
       "    <tr>\n",
       "      <th>1</th>\n",
       "      <td>https://www.nytimes.com/2022/10/29/world/austr...</td>\n",
       "      <td>The New York Times</td>\n",
       "      <td>After Years of ‘Hell’ in ISIS Detention Camp, ...</td>\n",
       "      <td>Al Hol Detention Camp (Syria)</td>\n",
       "      <td>Islamic State in Iraq and Syria (ISIS)</td>\n",
       "      <td>Australia</td>\n",
       "      <td>Syria</td>\n",
       "      <td>Detainees</td>\n",
       "      <td>2022-10-29 04:39:54+00:00</td>\n",
       "      <td>article</td>\n",
       "      <td>Foreign</td>\n",
       "      <td>World</td>\n",
       "      <td>Australia</td>\n",
       "      <td>News</td>\n",
       "      <td>910</td>\n",
       "    </tr>\n",
       "    <tr>\n",
       "      <th>2</th>\n",
       "      <td>https://www.nytimes.com/2022/10/21/world/austr...</td>\n",
       "      <td>The New York Times</td>\n",
       "      <td>How Australia Fell Behind on Data Privacy</td>\n",
       "      <td>Cyberattacks and Hackers</td>\n",
       "      <td>Privacy</td>\n",
       "      <td>Regulation and Deregulation of Industry</td>\n",
       "      <td>Australia</td>\n",
       "      <td>NaN</td>\n",
       "      <td>2022-10-21 10:57:58+00:00</td>\n",
       "      <td>article</td>\n",
       "      <td>Foreign</td>\n",
       "      <td>World</td>\n",
       "      <td>Australia</td>\n",
       "      <td>News</td>\n",
       "      <td>1054</td>\n",
       "    </tr>\n",
       "    <tr>\n",
       "      <th>3</th>\n",
       "      <td>https://www.nytimes.com/2022/10/17/business/ap...</td>\n",
       "      <td>The New York Times</td>\n",
       "      <td>New Crack in Apple’s Armor as Dozens Strike at...</td>\n",
       "      <td>Apple Inc</td>\n",
       "      <td>Australia</td>\n",
       "      <td>Strikes</td>\n",
       "      <td>Organized Labor</td>\n",
       "      <td>Wages and Salaries</td>\n",
       "      <td>2022-10-18 02:28:24+00:00</td>\n",
       "      <td>article</td>\n",
       "      <td>Business</td>\n",
       "      <td>Business Day</td>\n",
       "      <td>NaN</td>\n",
       "      <td>News</td>\n",
       "      <td>1165</td>\n",
       "    </tr>\n",
       "    <tr>\n",
       "      <th>4</th>\n",
       "      <td>https://www.nytimes.com/video/world/australia/...</td>\n",
       "      <td>AP</td>\n",
       "      <td>Flooding Batters Southeast Australia</td>\n",
       "      <td>Australia</td>\n",
       "      <td>Floods</td>\n",
       "      <td>Coastal Areas</td>\n",
       "      <td>Deaths (Fatalities)</td>\n",
       "      <td>Evacuations and Evacuees</td>\n",
       "      <td>2022-10-15 17:53:20+00:00</td>\n",
       "      <td>multimedia</td>\n",
       "      <td></td>\n",
       "      <td>World</td>\n",
       "      <td>Australia</td>\n",
       "      <td>Video</td>\n",
       "      <td>0</td>\n",
       "    </tr>\n",
       "  </tbody>\n",
       "</table>\n",
       "</div>"
      ],
      "text/plain": [
       "                                             web_url              source  \\\n",
       "0  https://www.nytimes.com/2022/10/30/world/austr...  The New York Times   \n",
       "1  https://www.nytimes.com/2022/10/29/world/austr...  The New York Times   \n",
       "2  https://www.nytimes.com/2022/10/21/world/austr...  The New York Times   \n",
       "3  https://www.nytimes.com/2022/10/17/business/ap...  The New York Times   \n",
       "4  https://www.nytimes.com/video/world/australia/...                  AP   \n",
       "\n",
       "                                            headline  \\\n",
       "0       Tensions Over Racism Rock Australian Netball   \n",
       "1  After Years of ‘Hell’ in ISIS Detention Camp, ...   \n",
       "2          How Australia Fell Behind on Data Privacy   \n",
       "3  New Crack in Apple’s Armor as Dozens Strike at...   \n",
       "4               Flooding Batters Southeast Australia   \n",
       "\n",
       "                        keyword1                                keyword2  \\\n",
       "0                      Australia                         Netball (Sport)   \n",
       "1  Al Hol Detention Camp (Syria)  Islamic State in Iraq and Syria (ISIS)   \n",
       "2       Cyberattacks and Hackers                                 Privacy   \n",
       "3                      Apple Inc                               Australia   \n",
       "4                      Australia                                  Floods   \n",
       "\n",
       "                                  keyword3                keyword4  \\\n",
       "0                           Discrimination  Indigenous Australians   \n",
       "1                                Australia                   Syria   \n",
       "2  Regulation and Deregulation of Industry               Australia   \n",
       "3                                  Strikes         Organized Labor   \n",
       "4                            Coastal Areas     Deaths (Fatalities)   \n",
       "\n",
       "                   keyword5                  pub_date document_type news_desk  \\\n",
       "0                       NaN 2022-10-30 10:53:55+00:00       article   Foreign   \n",
       "1                 Detainees 2022-10-29 04:39:54+00:00       article   Foreign   \n",
       "2                       NaN 2022-10-21 10:57:58+00:00       article   Foreign   \n",
       "3        Wages and Salaries 2022-10-18 02:28:24+00:00       article  Business   \n",
       "4  Evacuations and Evacuees 2022-10-15 17:53:20+00:00    multimedia             \n",
       "\n",
       "   section_name subsection_name type_of_material  word_count  \n",
       "0         World       Australia             News        1321  \n",
       "1         World       Australia             News         910  \n",
       "2         World       Australia             News        1054  \n",
       "3  Business Day             NaN             News        1165  \n",
       "4         World       Australia            Video           0  "
      ]
     },
     "execution_count": 282,
     "metadata": {},
     "output_type": "execute_result"
    }
   ],
   "source": [
    "NYTarticles.head()"
   ]
  },
  {
   "cell_type": "code",
   "execution_count": null,
   "id": "bf291c68",
   "metadata": {},
   "outputs": [],
   "source": []
  },
  {
   "cell_type": "markdown",
   "id": "685b4f29",
   "metadata": {},
   "source": [
    "## Saving df as csv: "
   ]
  },
  {
   "cell_type": "code",
   "execution_count": 281,
   "id": "9dbed394",
   "metadata": {},
   "outputs": [],
   "source": [
    "NYTarticles.to_csv('NYT_Australia_articles.csv', index=False)"
   ]
  },
  {
   "cell_type": "code",
   "execution_count": null,
   "id": "cea9312e",
   "metadata": {},
   "outputs": [],
   "source": []
  }
 ],
 "metadata": {
  "kernelspec": {
   "display_name": "Python 3 (ipykernel)",
   "language": "python",
   "name": "python3"
  },
  "language_info": {
   "codemirror_mode": {
    "name": "ipython",
    "version": 3
   },
   "file_extension": ".py",
   "mimetype": "text/x-python",
   "name": "python",
   "nbconvert_exporter": "python",
   "pygments_lexer": "ipython3",
   "version": "3.9.12"
  }
 },
 "nbformat": 4,
 "nbformat_minor": 5
}
