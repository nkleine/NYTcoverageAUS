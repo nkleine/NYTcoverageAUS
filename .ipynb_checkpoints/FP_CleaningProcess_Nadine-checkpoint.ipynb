{
 "cells": [
  {
   "cell_type": "markdown",
   "id": "2790d050",
   "metadata": {},
   "source": [
    "# Cleaning the NYT-Article Dataframe"
   ]
  },
  {
   "cell_type": "code",
   "execution_count": 1,
   "id": "771aa151",
   "metadata": {},
   "outputs": [],
   "source": [
    "import pandas as pd\n",
    "import numpy as np\n",
    "pd.set_option('display.max_columns', None)"
   ]
  },
  {
   "cell_type": "markdown",
   "id": "33137059",
   "metadata": {},
   "source": [
    "## Importing the dataframe"
   ]
  },
  {
   "cell_type": "code",
   "execution_count": 2,
   "id": "fa8d7b10",
   "metadata": {},
   "outputs": [],
   "source": [
    "data = pd.read_csv('NYT_Australia_articles.csv')"
   ]
  },
  {
   "cell_type": "code",
   "execution_count": 3,
   "id": "1dd72d8a",
   "metadata": {},
   "outputs": [],
   "source": [
    "data_cl=data.copy()"
   ]
  },
  {
   "cell_type": "markdown",
   "id": "7b3a1338",
   "metadata": {},
   "source": [
    "## Getting Information to the dataframe"
   ]
  },
  {
   "cell_type": "code",
   "execution_count": 4,
   "id": "f643ea6d",
   "metadata": {},
   "outputs": [
    {
     "data": {
      "text/html": [
       "<div>\n",
       "<style scoped>\n",
       "    .dataframe tbody tr th:only-of-type {\n",
       "        vertical-align: middle;\n",
       "    }\n",
       "\n",
       "    .dataframe tbody tr th {\n",
       "        vertical-align: top;\n",
       "    }\n",
       "\n",
       "    .dataframe thead th {\n",
       "        text-align: right;\n",
       "    }\n",
       "</style>\n",
       "<table border=\"1\" class=\"dataframe\">\n",
       "  <thead>\n",
       "    <tr style=\"text-align: right;\">\n",
       "      <th></th>\n",
       "      <th>web_url</th>\n",
       "      <th>source</th>\n",
       "      <th>headline</th>\n",
       "      <th>keyword1</th>\n",
       "      <th>keyword2</th>\n",
       "      <th>keyword3</th>\n",
       "      <th>keyword4</th>\n",
       "      <th>keyword5</th>\n",
       "      <th>pub_date</th>\n",
       "      <th>document_type</th>\n",
       "      <th>news_desk</th>\n",
       "      <th>section_name</th>\n",
       "      <th>subsection_name</th>\n",
       "      <th>type_of_material</th>\n",
       "      <th>word_count</th>\n",
       "    </tr>\n",
       "  </thead>\n",
       "  <tbody>\n",
       "    <tr>\n",
       "      <th>0</th>\n",
       "      <td>https://www.nytimes.com/2022/10/30/world/austr...</td>\n",
       "      <td>The New York Times</td>\n",
       "      <td>Tensions Over Racism Rock Australian Netball</td>\n",
       "      <td>Australia</td>\n",
       "      <td>Netball (Sport)</td>\n",
       "      <td>Discrimination</td>\n",
       "      <td>Indigenous Australians</td>\n",
       "      <td>NaN</td>\n",
       "      <td>2022-10-30 10:53:55+00:00</td>\n",
       "      <td>article</td>\n",
       "      <td>Foreign</td>\n",
       "      <td>World</td>\n",
       "      <td>Australia</td>\n",
       "      <td>News</td>\n",
       "      <td>1321</td>\n",
       "    </tr>\n",
       "    <tr>\n",
       "      <th>1</th>\n",
       "      <td>https://www.nytimes.com/2022/10/29/world/austr...</td>\n",
       "      <td>The New York Times</td>\n",
       "      <td>After Years of ‘Hell’ in ISIS Detention Camp, ...</td>\n",
       "      <td>Al Hol Detention Camp (Syria)</td>\n",
       "      <td>Islamic State in Iraq and Syria (ISIS)</td>\n",
       "      <td>Australia</td>\n",
       "      <td>Syria</td>\n",
       "      <td>Detainees</td>\n",
       "      <td>2022-10-29 04:39:54+00:00</td>\n",
       "      <td>article</td>\n",
       "      <td>Foreign</td>\n",
       "      <td>World</td>\n",
       "      <td>Australia</td>\n",
       "      <td>News</td>\n",
       "      <td>910</td>\n",
       "    </tr>\n",
       "    <tr>\n",
       "      <th>2</th>\n",
       "      <td>https://www.nytimes.com/2022/10/21/world/austr...</td>\n",
       "      <td>The New York Times</td>\n",
       "      <td>How Australia Fell Behind on Data Privacy</td>\n",
       "      <td>Cyberattacks and Hackers</td>\n",
       "      <td>Privacy</td>\n",
       "      <td>Regulation and Deregulation of Industry</td>\n",
       "      <td>Australia</td>\n",
       "      <td>NaN</td>\n",
       "      <td>2022-10-21 10:57:58+00:00</td>\n",
       "      <td>article</td>\n",
       "      <td>Foreign</td>\n",
       "      <td>World</td>\n",
       "      <td>Australia</td>\n",
       "      <td>News</td>\n",
       "      <td>1054</td>\n",
       "    </tr>\n",
       "    <tr>\n",
       "      <th>3</th>\n",
       "      <td>https://www.nytimes.com/2022/10/17/business/ap...</td>\n",
       "      <td>The New York Times</td>\n",
       "      <td>New Crack in Apple’s Armor as Dozens Strike at...</td>\n",
       "      <td>Apple Inc</td>\n",
       "      <td>Australia</td>\n",
       "      <td>Strikes</td>\n",
       "      <td>Organized Labor</td>\n",
       "      <td>Wages and Salaries</td>\n",
       "      <td>2022-10-18 02:28:24+00:00</td>\n",
       "      <td>article</td>\n",
       "      <td>Business</td>\n",
       "      <td>Business Day</td>\n",
       "      <td>NaN</td>\n",
       "      <td>News</td>\n",
       "      <td>1165</td>\n",
       "    </tr>\n",
       "    <tr>\n",
       "      <th>4</th>\n",
       "      <td>https://www.nytimes.com/video/world/australia/...</td>\n",
       "      <td>AP</td>\n",
       "      <td>Flooding Batters Southeast Australia</td>\n",
       "      <td>Australia</td>\n",
       "      <td>Floods</td>\n",
       "      <td>Coastal Areas</td>\n",
       "      <td>Deaths (Fatalities)</td>\n",
       "      <td>Evacuations and Evacuees</td>\n",
       "      <td>2022-10-15 17:53:20+00:00</td>\n",
       "      <td>multimedia</td>\n",
       "      <td>NaN</td>\n",
       "      <td>World</td>\n",
       "      <td>Australia</td>\n",
       "      <td>Video</td>\n",
       "      <td>0</td>\n",
       "    </tr>\n",
       "  </tbody>\n",
       "</table>\n",
       "</div>"
      ],
      "text/plain": [
       "                                             web_url              source  \\\n",
       "0  https://www.nytimes.com/2022/10/30/world/austr...  The New York Times   \n",
       "1  https://www.nytimes.com/2022/10/29/world/austr...  The New York Times   \n",
       "2  https://www.nytimes.com/2022/10/21/world/austr...  The New York Times   \n",
       "3  https://www.nytimes.com/2022/10/17/business/ap...  The New York Times   \n",
       "4  https://www.nytimes.com/video/world/australia/...                  AP   \n",
       "\n",
       "                                            headline  \\\n",
       "0       Tensions Over Racism Rock Australian Netball   \n",
       "1  After Years of ‘Hell’ in ISIS Detention Camp, ...   \n",
       "2          How Australia Fell Behind on Data Privacy   \n",
       "3  New Crack in Apple’s Armor as Dozens Strike at...   \n",
       "4               Flooding Batters Southeast Australia   \n",
       "\n",
       "                        keyword1                                keyword2  \\\n",
       "0                      Australia                         Netball (Sport)   \n",
       "1  Al Hol Detention Camp (Syria)  Islamic State in Iraq and Syria (ISIS)   \n",
       "2       Cyberattacks and Hackers                                 Privacy   \n",
       "3                      Apple Inc                               Australia   \n",
       "4                      Australia                                  Floods   \n",
       "\n",
       "                                  keyword3                keyword4  \\\n",
       "0                           Discrimination  Indigenous Australians   \n",
       "1                                Australia                   Syria   \n",
       "2  Regulation and Deregulation of Industry               Australia   \n",
       "3                                  Strikes         Organized Labor   \n",
       "4                            Coastal Areas     Deaths (Fatalities)   \n",
       "\n",
       "                   keyword5                   pub_date document_type  \\\n",
       "0                       NaN  2022-10-30 10:53:55+00:00       article   \n",
       "1                 Detainees  2022-10-29 04:39:54+00:00       article   \n",
       "2                       NaN  2022-10-21 10:57:58+00:00       article   \n",
       "3        Wages and Salaries  2022-10-18 02:28:24+00:00       article   \n",
       "4  Evacuations and Evacuees  2022-10-15 17:53:20+00:00    multimedia   \n",
       "\n",
       "  news_desk  section_name subsection_name type_of_material  word_count  \n",
       "0   Foreign         World       Australia             News        1321  \n",
       "1   Foreign         World       Australia             News         910  \n",
       "2   Foreign         World       Australia             News        1054  \n",
       "3  Business  Business Day             NaN             News        1165  \n",
       "4       NaN         World       Australia            Video           0  "
      ]
     },
     "execution_count": 4,
     "metadata": {},
     "output_type": "execute_result"
    }
   ],
   "source": [
    "data_cl.head()"
   ]
  },
  {
   "cell_type": "code",
   "execution_count": 5,
   "id": "aa21a870",
   "metadata": {},
   "outputs": [
    {
     "data": {
      "text/plain": [
       "(14054, 15)"
      ]
     },
     "execution_count": 5,
     "metadata": {},
     "output_type": "execute_result"
    }
   ],
   "source": [
    "data_cl.shape"
   ]
  },
  {
   "cell_type": "code",
   "execution_count": 6,
   "id": "1201017b",
   "metadata": {},
   "outputs": [
    {
     "name": "stdout",
     "output_type": "stream",
     "text": [
      "<class 'pandas.core.frame.DataFrame'>\n",
      "RangeIndex: 14054 entries, 0 to 14053\n",
      "Data columns (total 15 columns):\n",
      " #   Column            Non-Null Count  Dtype \n",
      "---  ------            --------------  ----- \n",
      " 0   web_url           14054 non-null  object\n",
      " 1   source            14013 non-null  object\n",
      " 2   headline          14054 non-null  object\n",
      " 3   keyword1          11017 non-null  object\n",
      " 4   keyword2          10509 non-null  object\n",
      " 5   keyword3          10007 non-null  object\n",
      " 6   keyword4          9121 non-null   object\n",
      " 7   keyword5          7632 non-null   object\n",
      " 8   pub_date          14054 non-null  object\n",
      " 9   document_type     14054 non-null  object\n",
      " 10  news_desk         13922 non-null  object\n",
      " 11  section_name      14041 non-null  object\n",
      " 12  subsection_name   5720 non-null   object\n",
      " 13  type_of_material  13999 non-null  object\n",
      " 14  word_count        14054 non-null  int64 \n",
      "dtypes: int64(1), object(14)\n",
      "memory usage: 1.6+ MB\n"
     ]
    }
   ],
   "source": [
    "data_cl.info()"
   ]
  },
  {
   "cell_type": "code",
   "execution_count": null,
   "id": "8550bfa1",
   "metadata": {},
   "outputs": [],
   "source": []
  },
  {
   "cell_type": "markdown",
   "id": "60811291",
   "metadata": {},
   "source": [
    "## Check for Duplicates and NaNs"
   ]
  },
  {
   "cell_type": "code",
   "execution_count": 7,
   "id": "942e6afd",
   "metadata": {},
   "outputs": [],
   "source": [
    "# Duplicates:"
   ]
  },
  {
   "cell_type": "code",
   "execution_count": 8,
   "id": "bec3c0be",
   "metadata": {},
   "outputs": [],
   "source": [
    "data_cl = data_cl.drop_duplicates()"
   ]
  },
  {
   "cell_type": "code",
   "execution_count": 9,
   "id": "fe4bf4f2",
   "metadata": {},
   "outputs": [
    {
     "data": {
      "text/plain": [
       "(13539, 15)"
      ]
     },
     "execution_count": 9,
     "metadata": {},
     "output_type": "execute_result"
    }
   ],
   "source": [
    "data_cl.shape"
   ]
  },
  {
   "cell_type": "code",
   "execution_count": 10,
   "id": "3368ee79",
   "metadata": {},
   "outputs": [],
   "source": [
    "# 515 duplicates got deleted"
   ]
  },
  {
   "cell_type": "code",
   "execution_count": 11,
   "id": "f4b87942",
   "metadata": {},
   "outputs": [],
   "source": [
    "# NaNs:"
   ]
  },
  {
   "cell_type": "code",
   "execution_count": 12,
   "id": "99a278ee",
   "metadata": {},
   "outputs": [
    {
     "data": {
      "text/plain": [
       "web_url                0\n",
       "source                39\n",
       "headline               0\n",
       "keyword1            2868\n",
       "keyword2            3363\n",
       "keyword3            3850\n",
       "keyword4            4709\n",
       "keyword5            6152\n",
       "pub_date               0\n",
       "document_type          0\n",
       "news_desk            131\n",
       "section_name          12\n",
       "subsection_name     7980\n",
       "type_of_material      52\n",
       "word_count             0\n",
       "dtype: int64"
      ]
     },
     "execution_count": 12,
     "metadata": {},
     "output_type": "execute_result"
    }
   ],
   "source": [
    "data_cl.isna().sum()"
   ]
  },
  {
   "cell_type": "code",
   "execution_count": 13,
   "id": "f9aaaaa5",
   "metadata": {},
   "outputs": [
    {
     "data": {
      "text/plain": [
       "web_url                0\n",
       "source                39\n",
       "headline               0\n",
       "keyword1            2868\n",
       "keyword2            3363\n",
       "keyword3            3850\n",
       "keyword4            4709\n",
       "keyword5            6152\n",
       "pub_date               0\n",
       "document_type          0\n",
       "news_desk            131\n",
       "section_name          12\n",
       "subsection_name     7980\n",
       "type_of_material      52\n",
       "word_count             0\n",
       "dtype: int64"
      ]
     },
     "execution_count": 13,
     "metadata": {},
     "output_type": "execute_result"
    }
   ],
   "source": [
    "data_cl.isna().sum()"
   ]
  },
  {
   "cell_type": "code",
   "execution_count": null,
   "id": "49e8440f",
   "metadata": {},
   "outputs": [],
   "source": []
  },
  {
   "cell_type": "markdown",
   "id": "816c53bd",
   "metadata": {},
   "source": [
    "### checking columns with a lot of NaNs:"
   ]
  },
  {
   "cell_type": "code",
   "execution_count": 14,
   "id": "95a0b40d",
   "metadata": {},
   "outputs": [],
   "source": [
    "# Source:"
   ]
  },
  {
   "cell_type": "code",
   "execution_count": 15,
   "id": "b735c14c",
   "metadata": {},
   "outputs": [
    {
     "data": {
      "text/plain": [
       "The New York Times              13156\n",
       "International New York Times      274\n",
       "NaN                                39\n",
       "AP                                 33\n",
       "Reuters                            23\n",
       "Wirecutter                         11\n",
       "WQXR                                3\n",
       "Name: source, dtype: int64"
      ]
     },
     "execution_count": 15,
     "metadata": {},
     "output_type": "execute_result"
    }
   ],
   "source": [
    "data_cl['source'].value_counts(dropna=False)"
   ]
  },
  {
   "cell_type": "code",
   "execution_count": 16,
   "id": "e79506c2",
   "metadata": {},
   "outputs": [],
   "source": [
    "data_cl = data_cl.dropna(subset=['source'])"
   ]
  },
  {
   "cell_type": "code",
   "execution_count": 17,
   "id": "772b9249",
   "metadata": {},
   "outputs": [],
   "source": [
    "# News Desk:"
   ]
  },
  {
   "cell_type": "code",
   "execution_count": 18,
   "id": "30c29488",
   "metadata": {},
   "outputs": [
    {
     "data": {
      "text/plain": [
       "NYTNow         2683\n",
       "Foreign        2407\n",
       "Sports         1538\n",
       "Business        796\n",
       "Culture         599\n",
       "               ... \n",
       "Burst             1\n",
       "Technology        1\n",
       "Movies            1\n",
       "Automobiles       1\n",
       "Test              1\n",
       "Name: news_desk, Length: 74, dtype: int64"
      ]
     },
     "execution_count": 18,
     "metadata": {},
     "output_type": "execute_result"
    }
   ],
   "source": [
    "data_cl['news_desk'].value_counts(dropna=False)"
   ]
  },
  {
   "cell_type": "code",
   "execution_count": 19,
   "id": "58ddc507",
   "metadata": {},
   "outputs": [],
   "source": [
    "data_cl['news_desk'] = data_cl['news_desk'].replace(np.nan, 'None')"
   ]
  },
  {
   "cell_type": "code",
   "execution_count": null,
   "id": "ce793b83",
   "metadata": {},
   "outputs": [],
   "source": []
  },
  {
   "cell_type": "code",
   "execution_count": 20,
   "id": "138b12c0",
   "metadata": {},
   "outputs": [],
   "source": [
    "# section_name:"
   ]
  },
  {
   "cell_type": "code",
   "execution_count": 21,
   "id": "e7c4f741",
   "metadata": {},
   "outputs": [
    {
     "data": {
      "text/plain": [
       "Briefing                       2728\n",
       "World                          2606\n",
       "Sports                         1762\n",
       "Arts                            751\n",
       "Business Day                    735\n",
       "Opinion                         652\n",
       "U.S.                            635\n",
       "Science                         322\n",
       "Books                           269\n",
       "Food                            255\n",
       "Magazine                        254\n",
       "Style                           237\n",
       "Travel                          209\n",
       "Movies                          199\n",
       "Climate                         195\n",
       "Technology                      180\n",
       "Health                          170\n",
       "Fashion & Style                 146\n",
       "Theater                         127\n",
       "The Learning Network            120\n",
       "T Magazine                      119\n",
       "Obituaries                      115\n",
       "Well                            112\n",
       "New York                        108\n",
       "Real Estate                      97\n",
       "Podcasts                         46\n",
       "Corrections                      42\n",
       "Parenting                        40\n",
       "The Upshot                       38\n",
       "Crosswords & Games               36\n",
       "Reader Center                    35\n",
       "Watching                         29\n",
       "At Home                          22\n",
       "Times Insider                    22\n",
       "Smarter Living                   14\n",
       "Today’s Paper                    13\n",
       "NaN                              11\n",
       "Sunday Review                     9\n",
       "Education                         7\n",
       "Lens                              6\n",
       "Your Money                        6\n",
       "Special Series                    5\n",
       "Multimedia/Photos                 4\n",
       "International Home                2\n",
       "Admin                             2\n",
       "Neediest Cases                    2\n",
       "Universal                         1\n",
       "Burst                             1\n",
       "The New York Times Presents       1\n",
       "The Weekly                        1\n",
       "Automobiles                       1\n",
       "Today's Headlines                 1\n",
       "Name: section_name, dtype: int64"
      ]
     },
     "execution_count": 21,
     "metadata": {},
     "output_type": "execute_result"
    }
   ],
   "source": [
    "data_cl['section_name'].value_counts(dropna=False)"
   ]
  },
  {
   "cell_type": "code",
   "execution_count": 22,
   "id": "bbb820ef",
   "metadata": {},
   "outputs": [],
   "source": [
    "data_cl = data_cl.dropna(subset=['section_name'])"
   ]
  },
  {
   "cell_type": "code",
   "execution_count": null,
   "id": "0099edd0",
   "metadata": {},
   "outputs": [],
   "source": []
  },
  {
   "cell_type": "code",
   "execution_count": 23,
   "id": "e7f99428",
   "metadata": {},
   "outputs": [],
   "source": [
    "# subsection_name:"
   ]
  },
  {
   "cell_type": "code",
   "execution_count": 24,
   "id": "9e7da5eb",
   "metadata": {},
   "outputs": [
    {
     "data": {
      "text/plain": [
       "NaN                       7930\n",
       "Australia                 1057\n",
       "Tennis                     783\n",
       "Asia Pacific               745\n",
       "Europe                     338\n",
       "                          ... \n",
       "Retirement                   1\n",
       "International Business       1\n",
       "Opinion | Culture            1\n",
       "Travel                       1\n",
       "Toddler                      1\n",
       "Name: subsection_name, Length: 77, dtype: int64"
      ]
     },
     "execution_count": 24,
     "metadata": {},
     "output_type": "execute_result"
    }
   ],
   "source": [
    "data_cl['subsection_name'].value_counts(dropna=False)"
   ]
  },
  {
   "cell_type": "code",
   "execution_count": 25,
   "id": "14c3ab20",
   "metadata": {},
   "outputs": [],
   "source": [
    "# Too many NaNs, dropping the column later"
   ]
  },
  {
   "cell_type": "code",
   "execution_count": null,
   "id": "ffd45944",
   "metadata": {},
   "outputs": [],
   "source": []
  },
  {
   "cell_type": "code",
   "execution_count": 26,
   "id": "dccbac4b",
   "metadata": {},
   "outputs": [],
   "source": [
    "# type_of_material:"
   ]
  },
  {
   "cell_type": "code",
   "execution_count": 27,
   "id": "1d46900b",
   "metadata": {},
   "outputs": [
    {
     "data": {
      "text/plain": [
       "News                   8682\n",
       "briefing               2757\n",
       "Interactive Feature     554\n",
       "Op-Ed                   542\n",
       "Review                  278\n",
       "Obituary (Obit)         259\n",
       "Video                    89\n",
       "Letter                   66\n",
       "Newsletter               48\n",
       "Correction               36\n",
       "Editorial                34\n",
       "Schedule                 31\n",
       "News Analysis            30\n",
       "List                     29\n",
       "Slideshow                23\n",
       "Quote                    10\n",
       "Biography                 7\n",
       "Question                  6\n",
       "NaN                       4\n",
       "An Appraisal              1\n",
       "Audio Podcast             1\n",
       "Interview                 1\n",
       "Text                      1\n",
       "Name: type_of_material, dtype: int64"
      ]
     },
     "execution_count": 27,
     "metadata": {},
     "output_type": "execute_result"
    }
   ],
   "source": [
    "data_cl['type_of_material'].value_counts(dropna=False)"
   ]
  },
  {
   "cell_type": "code",
   "execution_count": 28,
   "id": "ad376a4c",
   "metadata": {},
   "outputs": [],
   "source": [
    "data_cl = data_cl.dropna(subset=['type_of_material'])"
   ]
  },
  {
   "cell_type": "code",
   "execution_count": null,
   "id": "14759168",
   "metadata": {},
   "outputs": [],
   "source": []
  },
  {
   "cell_type": "code",
   "execution_count": 29,
   "id": "9b4fb146",
   "metadata": {},
   "outputs": [],
   "source": [
    "# keyword1:"
   ]
  },
  {
   "cell_type": "code",
   "execution_count": 30,
   "id": "3925f792",
   "metadata": {},
   "outputs": [
    {
     "data": {
      "text/plain": [
       "NaN                                   2829\n",
       "Tennis                                 693\n",
       "Coronavirus (2019-nCoV)                543\n",
       "Australia                              288\n",
       "Books and Literature                   230\n",
       "                                      ... \n",
       "Qatar Airways                            1\n",
       "Imahara, Grant (1970-2020)               1\n",
       "Santa Cruz (Calif)                       1\n",
       "Green Lantern (Fictional Character       1\n",
       "Electoral College                        1\n",
       "Name: keyword1, Length: 2270, dtype: int64"
      ]
     },
     "execution_count": 30,
     "metadata": {},
     "output_type": "execute_result"
    }
   ],
   "source": [
    "data_cl['keyword1'].value_counts(dropna=False)"
   ]
  },
  {
   "cell_type": "code",
   "execution_count": 31,
   "id": "1255b6ef",
   "metadata": {},
   "outputs": [],
   "source": [
    "data_cl['keyword1'] = data_cl['keyword1'].replace(np.nan, 'None')"
   ]
  },
  {
   "cell_type": "code",
   "execution_count": null,
   "id": "1cf40dbb",
   "metadata": {},
   "outputs": [],
   "source": []
  },
  {
   "cell_type": "code",
   "execution_count": 32,
   "id": "0b957034",
   "metadata": {},
   "outputs": [],
   "source": [
    "# keyword2:"
   ]
  },
  {
   "cell_type": "code",
   "execution_count": 33,
   "id": "4d955757",
   "metadata": {},
   "outputs": [
    {
     "data": {
      "text/plain": [
       "NaN                                     3321\n",
       "Coronavirus (2019-nCoV)                  271\n",
       "Tennis                                   206\n",
       "Australia                                187\n",
       "Politics and Government                  177\n",
       "                                        ... \n",
       "Borotra, Jean                              1\n",
       "Winton, Tim                                1\n",
       "Weller, Kurt (Crossword Constructor)       1\n",
       "Cromwell, James                            1\n",
       "House Committee on Intelligence            1\n",
       "Name: keyword2, Length: 2818, dtype: int64"
      ]
     },
     "execution_count": 33,
     "metadata": {},
     "output_type": "execute_result"
    }
   ],
   "source": [
    "data_cl['keyword2'].value_counts(dropna=False)"
   ]
  },
  {
   "cell_type": "code",
   "execution_count": 34,
   "id": "68db3ff5",
   "metadata": {},
   "outputs": [],
   "source": [
    "data_cl['keyword2'] = data_cl['keyword2'].replace(np.nan, 'None')"
   ]
  },
  {
   "cell_type": "code",
   "execution_count": null,
   "id": "c60b0694",
   "metadata": {},
   "outputs": [],
   "source": []
  },
  {
   "cell_type": "code",
   "execution_count": 35,
   "id": "574aa318",
   "metadata": {},
   "outputs": [],
   "source": [
    "# keyword3:"
   ]
  },
  {
   "cell_type": "code",
   "execution_count": 36,
   "id": "4ae48777",
   "metadata": {},
   "outputs": [
    {
     "data": {
      "text/plain": [
       "NaN                                       3808\n",
       "Australia                                  240\n",
       "Coronavirus (2019-nCoV)                    201\n",
       "Politics and Government                    146\n",
       "United States Politics and Government       80\n",
       "                                          ... \n",
       "Sex                                          1\n",
       "Tripp, Linda R                               1\n",
       "Civil Rights Movement (1954-68)              1\n",
       "Reggae Music                                 1\n",
       "Reading and Writing Skills (Education)       1\n",
       "Name: keyword3, Length: 3319, dtype: int64"
      ]
     },
     "execution_count": 36,
     "metadata": {},
     "output_type": "execute_result"
    }
   ],
   "source": [
    "data_cl['keyword3'].value_counts(dropna=False)"
   ]
  },
  {
   "cell_type": "code",
   "execution_count": 37,
   "id": "3e3b3ccc",
   "metadata": {},
   "outputs": [],
   "source": [
    "data_cl['keyword3'] = data_cl['keyword3'].replace(np.nan, 'None')"
   ]
  },
  {
   "cell_type": "code",
   "execution_count": null,
   "id": "843d4b76",
   "metadata": {},
   "outputs": [],
   "source": []
  },
  {
   "cell_type": "code",
   "execution_count": 38,
   "id": "513959a9",
   "metadata": {},
   "outputs": [],
   "source": [
    "# keyword4:"
   ]
  },
  {
   "cell_type": "code",
   "execution_count": 39,
   "id": "9d337287",
   "metadata": {},
   "outputs": [
    {
     "data": {
      "text/plain": [
       "NaN                                         4665\n",
       "Australia                                    285\n",
       "Coronavirus (2019-nCoV)                      151\n",
       "Politics and Government                      110\n",
       "China                                         74\n",
       "                                            ... \n",
       "Dynasty (TV Program)                           1\n",
       "Blank, Radha                                   1\n",
       "The Mystery of Charles Dickens (Book)          1\n",
       "Trades (Sports)                                1\n",
       "Sutherland Springs, Tex, Shooting (2017)       1\n",
       "Name: keyword4, Length: 3356, dtype: int64"
      ]
     },
     "execution_count": 39,
     "metadata": {},
     "output_type": "execute_result"
    }
   ],
   "source": [
    "data_cl['keyword4'].value_counts(dropna=False)"
   ]
  },
  {
   "cell_type": "code",
   "execution_count": 40,
   "id": "be6a4565",
   "metadata": {},
   "outputs": [],
   "source": [
    "# Too many NaNs, dropping the column later"
   ]
  },
  {
   "cell_type": "code",
   "execution_count": null,
   "id": "114849eb",
   "metadata": {},
   "outputs": [],
   "source": []
  },
  {
   "cell_type": "code",
   "execution_count": 41,
   "id": "f02eab91",
   "metadata": {},
   "outputs": [],
   "source": [
    "# keyword5:"
   ]
  },
  {
   "cell_type": "code",
   "execution_count": 42,
   "id": "4a3752a9",
   "metadata": {},
   "outputs": [
    {
     "data": {
      "text/plain": [
       "NaN                                           6105\n",
       "Australia                                      228\n",
       "Politics and Government                         83\n",
       "Coronavirus (2019-nCoV)                         82\n",
       "China                                           73\n",
       "                                              ... \n",
       "Li Keqiang                                       1\n",
       "Jingle Jangle: A Christmas Journey (Movie)       1\n",
       "Religious Cults                                  1\n",
       "Person to Person (Movie)                         1\n",
       "Azores Islands                                   1\n",
       "Name: keyword5, Length: 3146, dtype: int64"
      ]
     },
     "execution_count": 42,
     "metadata": {},
     "output_type": "execute_result"
    }
   ],
   "source": [
    "data_cl['keyword5'].value_counts(dropna=False)"
   ]
  },
  {
   "cell_type": "code",
   "execution_count": 43,
   "id": "8ac15e45",
   "metadata": {},
   "outputs": [],
   "source": [
    "# Too many NaNs, dropping the column later"
   ]
  },
  {
   "cell_type": "code",
   "execution_count": null,
   "id": "e17cc0f9",
   "metadata": {},
   "outputs": [],
   "source": []
  },
  {
   "cell_type": "markdown",
   "id": "1aa1443a",
   "metadata": {},
   "source": [
    "## Dropround Nr. 1:"
   ]
  },
  {
   "cell_type": "code",
   "execution_count": 44,
   "id": "c471b009",
   "metadata": {},
   "outputs": [],
   "source": [
    "data_cl = data_cl.drop(['web_url', 'keyword4', 'keyword5', 'subsection_name'], axis=1)"
   ]
  },
  {
   "cell_type": "code",
   "execution_count": 45,
   "id": "b4ffd0ed",
   "metadata": {},
   "outputs": [
    {
     "data": {
      "text/plain": [
       "source              0\n",
       "headline            0\n",
       "keyword1            0\n",
       "keyword2            0\n",
       "keyword3            0\n",
       "pub_date            0\n",
       "document_type       0\n",
       "news_desk           0\n",
       "section_name        0\n",
       "type_of_material    0\n",
       "word_count          0\n",
       "dtype: int64"
      ]
     },
     "execution_count": 45,
     "metadata": {},
     "output_type": "execute_result"
    }
   ],
   "source": [
    "data_cl.isna().sum()"
   ]
  },
  {
   "cell_type": "code",
   "execution_count": null,
   "id": "26bdc03e",
   "metadata": {},
   "outputs": [],
   "source": []
  },
  {
   "cell_type": "markdown",
   "id": "b6d4a42f",
   "metadata": {},
   "source": [
    "## Changing the date_time of pub_date"
   ]
  },
  {
   "cell_type": "code",
   "execution_count": 46,
   "id": "5d485708",
   "metadata": {},
   "outputs": [
    {
     "data": {
      "text/plain": [
       "dtype('O')"
      ]
     },
     "execution_count": 46,
     "metadata": {},
     "output_type": "execute_result"
    }
   ],
   "source": [
    "data_cl['pub_date'].dtype"
   ]
  },
  {
   "cell_type": "code",
   "execution_count": 47,
   "id": "da144499",
   "metadata": {},
   "outputs": [],
   "source": [
    "data_cl['pub_date'] = pd.to_datetime(data['pub_date'], errors='coerce')"
   ]
  },
  {
   "cell_type": "code",
   "execution_count": 48,
   "id": "2e7c5c3e",
   "metadata": {},
   "outputs": [
    {
     "data": {
      "text/plain": [
       "datetime64[ns, UTC]"
      ]
     },
     "execution_count": 48,
     "metadata": {},
     "output_type": "execute_result"
    }
   ],
   "source": [
    "data_cl['pub_date'].dtype"
   ]
  },
  {
   "cell_type": "code",
   "execution_count": 49,
   "id": "f0193b98",
   "metadata": {},
   "outputs": [],
   "source": [
    "data_cl['pub_date'] = pd.to_datetime(data_cl['pub_date']).dt.date"
   ]
  },
  {
   "cell_type": "code",
   "execution_count": 50,
   "id": "5fbce725",
   "metadata": {},
   "outputs": [
    {
     "data": {
      "text/html": [
       "<div>\n",
       "<style scoped>\n",
       "    .dataframe tbody tr th:only-of-type {\n",
       "        vertical-align: middle;\n",
       "    }\n",
       "\n",
       "    .dataframe tbody tr th {\n",
       "        vertical-align: top;\n",
       "    }\n",
       "\n",
       "    .dataframe thead th {\n",
       "        text-align: right;\n",
       "    }\n",
       "</style>\n",
       "<table border=\"1\" class=\"dataframe\">\n",
       "  <thead>\n",
       "    <tr style=\"text-align: right;\">\n",
       "      <th></th>\n",
       "      <th>source</th>\n",
       "      <th>headline</th>\n",
       "      <th>keyword1</th>\n",
       "      <th>keyword2</th>\n",
       "      <th>keyword3</th>\n",
       "      <th>pub_date</th>\n",
       "      <th>document_type</th>\n",
       "      <th>news_desk</th>\n",
       "      <th>section_name</th>\n",
       "      <th>type_of_material</th>\n",
       "      <th>word_count</th>\n",
       "    </tr>\n",
       "  </thead>\n",
       "  <tbody>\n",
       "    <tr>\n",
       "      <th>0</th>\n",
       "      <td>The New York Times</td>\n",
       "      <td>Tensions Over Racism Rock Australian Netball</td>\n",
       "      <td>Australia</td>\n",
       "      <td>Netball (Sport)</td>\n",
       "      <td>Discrimination</td>\n",
       "      <td>2022-10-30</td>\n",
       "      <td>article</td>\n",
       "      <td>Foreign</td>\n",
       "      <td>World</td>\n",
       "      <td>News</td>\n",
       "      <td>1321</td>\n",
       "    </tr>\n",
       "    <tr>\n",
       "      <th>1</th>\n",
       "      <td>The New York Times</td>\n",
       "      <td>After Years of ‘Hell’ in ISIS Detention Camp, ...</td>\n",
       "      <td>Al Hol Detention Camp (Syria)</td>\n",
       "      <td>Islamic State in Iraq and Syria (ISIS)</td>\n",
       "      <td>Australia</td>\n",
       "      <td>2022-10-29</td>\n",
       "      <td>article</td>\n",
       "      <td>Foreign</td>\n",
       "      <td>World</td>\n",
       "      <td>News</td>\n",
       "      <td>910</td>\n",
       "    </tr>\n",
       "    <tr>\n",
       "      <th>2</th>\n",
       "      <td>The New York Times</td>\n",
       "      <td>How Australia Fell Behind on Data Privacy</td>\n",
       "      <td>Cyberattacks and Hackers</td>\n",
       "      <td>Privacy</td>\n",
       "      <td>Regulation and Deregulation of Industry</td>\n",
       "      <td>2022-10-21</td>\n",
       "      <td>article</td>\n",
       "      <td>Foreign</td>\n",
       "      <td>World</td>\n",
       "      <td>News</td>\n",
       "      <td>1054</td>\n",
       "    </tr>\n",
       "    <tr>\n",
       "      <th>3</th>\n",
       "      <td>The New York Times</td>\n",
       "      <td>New Crack in Apple’s Armor as Dozens Strike at...</td>\n",
       "      <td>Apple Inc</td>\n",
       "      <td>Australia</td>\n",
       "      <td>Strikes</td>\n",
       "      <td>2022-10-18</td>\n",
       "      <td>article</td>\n",
       "      <td>Business</td>\n",
       "      <td>Business Day</td>\n",
       "      <td>News</td>\n",
       "      <td>1165</td>\n",
       "    </tr>\n",
       "    <tr>\n",
       "      <th>4</th>\n",
       "      <td>AP</td>\n",
       "      <td>Flooding Batters Southeast Australia</td>\n",
       "      <td>Australia</td>\n",
       "      <td>Floods</td>\n",
       "      <td>Coastal Areas</td>\n",
       "      <td>2022-10-15</td>\n",
       "      <td>multimedia</td>\n",
       "      <td>None</td>\n",
       "      <td>World</td>\n",
       "      <td>Video</td>\n",
       "      <td>0</td>\n",
       "    </tr>\n",
       "  </tbody>\n",
       "</table>\n",
       "</div>"
      ],
      "text/plain": [
       "               source                                           headline  \\\n",
       "0  The New York Times       Tensions Over Racism Rock Australian Netball   \n",
       "1  The New York Times  After Years of ‘Hell’ in ISIS Detention Camp, ...   \n",
       "2  The New York Times          How Australia Fell Behind on Data Privacy   \n",
       "3  The New York Times  New Crack in Apple’s Armor as Dozens Strike at...   \n",
       "4                  AP               Flooding Batters Southeast Australia   \n",
       "\n",
       "                        keyword1                                keyword2  \\\n",
       "0                      Australia                         Netball (Sport)   \n",
       "1  Al Hol Detention Camp (Syria)  Islamic State in Iraq and Syria (ISIS)   \n",
       "2       Cyberattacks and Hackers                                 Privacy   \n",
       "3                      Apple Inc                               Australia   \n",
       "4                      Australia                                  Floods   \n",
       "\n",
       "                                  keyword3    pub_date document_type  \\\n",
       "0                           Discrimination  2022-10-30       article   \n",
       "1                                Australia  2022-10-29       article   \n",
       "2  Regulation and Deregulation of Industry  2022-10-21       article   \n",
       "3                                  Strikes  2022-10-18       article   \n",
       "4                            Coastal Areas  2022-10-15    multimedia   \n",
       "\n",
       "  news_desk  section_name type_of_material  word_count  \n",
       "0   Foreign         World             News        1321  \n",
       "1   Foreign         World             News         910  \n",
       "2   Foreign         World             News        1054  \n",
       "3  Business  Business Day             News        1165  \n",
       "4      None         World            Video           0  "
      ]
     },
     "execution_count": 50,
     "metadata": {},
     "output_type": "execute_result"
    }
   ],
   "source": [
    "data_cl.head()"
   ]
  },
  {
   "cell_type": "code",
   "execution_count": null,
   "id": "2184e5ea",
   "metadata": {},
   "outputs": [],
   "source": []
  },
  {
   "cell_type": "markdown",
   "id": "d747375c",
   "metadata": {},
   "source": [
    "## Checking datatypes"
   ]
  },
  {
   "cell_type": "code",
   "execution_count": 51,
   "id": "5af4ebe5",
   "metadata": {},
   "outputs": [
    {
     "data": {
      "text/plain": [
       "source              object\n",
       "headline            object\n",
       "keyword1            object\n",
       "keyword2            object\n",
       "keyword3            object\n",
       "pub_date            object\n",
       "document_type       object\n",
       "news_desk           object\n",
       "section_name        object\n",
       "type_of_material    object\n",
       "word_count           int64\n",
       "dtype: object"
      ]
     },
     "execution_count": 51,
     "metadata": {},
     "output_type": "execute_result"
    }
   ],
   "source": [
    "data_cl.dtypes"
   ]
  },
  {
   "cell_type": "code",
   "execution_count": null,
   "id": "5a019b73",
   "metadata": {},
   "outputs": [],
   "source": []
  },
  {
   "cell_type": "code",
   "execution_count": 52,
   "id": "79e91a77",
   "metadata": {},
   "outputs": [
    {
     "data": {
      "text/html": [
       "<div>\n",
       "<style scoped>\n",
       "    .dataframe tbody tr th:only-of-type {\n",
       "        vertical-align: middle;\n",
       "    }\n",
       "\n",
       "    .dataframe tbody tr th {\n",
       "        vertical-align: top;\n",
       "    }\n",
       "\n",
       "    .dataframe thead th {\n",
       "        text-align: right;\n",
       "    }\n",
       "</style>\n",
       "<table border=\"1\" class=\"dataframe\">\n",
       "  <thead>\n",
       "    <tr style=\"text-align: right;\">\n",
       "      <th></th>\n",
       "      <th>source</th>\n",
       "      <th>headline</th>\n",
       "      <th>keyword1</th>\n",
       "      <th>keyword2</th>\n",
       "      <th>keyword3</th>\n",
       "      <th>pub_date</th>\n",
       "      <th>document_type</th>\n",
       "      <th>news_desk</th>\n",
       "      <th>section_name</th>\n",
       "      <th>type_of_material</th>\n",
       "      <th>word_count</th>\n",
       "    </tr>\n",
       "  </thead>\n",
       "  <tbody>\n",
       "    <tr>\n",
       "      <th>0</th>\n",
       "      <td>The New York Times</td>\n",
       "      <td>Tensions Over Racism Rock Australian Netball</td>\n",
       "      <td>Australia</td>\n",
       "      <td>Netball (Sport)</td>\n",
       "      <td>Discrimination</td>\n",
       "      <td>2022-10-30</td>\n",
       "      <td>article</td>\n",
       "      <td>Foreign</td>\n",
       "      <td>World</td>\n",
       "      <td>News</td>\n",
       "      <td>1321</td>\n",
       "    </tr>\n",
       "    <tr>\n",
       "      <th>1</th>\n",
       "      <td>The New York Times</td>\n",
       "      <td>After Years of ‘Hell’ in ISIS Detention Camp, ...</td>\n",
       "      <td>Al Hol Detention Camp (Syria)</td>\n",
       "      <td>Islamic State in Iraq and Syria (ISIS)</td>\n",
       "      <td>Australia</td>\n",
       "      <td>2022-10-29</td>\n",
       "      <td>article</td>\n",
       "      <td>Foreign</td>\n",
       "      <td>World</td>\n",
       "      <td>News</td>\n",
       "      <td>910</td>\n",
       "    </tr>\n",
       "    <tr>\n",
       "      <th>2</th>\n",
       "      <td>The New York Times</td>\n",
       "      <td>How Australia Fell Behind on Data Privacy</td>\n",
       "      <td>Cyberattacks and Hackers</td>\n",
       "      <td>Privacy</td>\n",
       "      <td>Regulation and Deregulation of Industry</td>\n",
       "      <td>2022-10-21</td>\n",
       "      <td>article</td>\n",
       "      <td>Foreign</td>\n",
       "      <td>World</td>\n",
       "      <td>News</td>\n",
       "      <td>1054</td>\n",
       "    </tr>\n",
       "    <tr>\n",
       "      <th>3</th>\n",
       "      <td>The New York Times</td>\n",
       "      <td>New Crack in Apple’s Armor as Dozens Strike at...</td>\n",
       "      <td>Apple Inc</td>\n",
       "      <td>Australia</td>\n",
       "      <td>Strikes</td>\n",
       "      <td>2022-10-18</td>\n",
       "      <td>article</td>\n",
       "      <td>Business</td>\n",
       "      <td>Business Day</td>\n",
       "      <td>News</td>\n",
       "      <td>1165</td>\n",
       "    </tr>\n",
       "    <tr>\n",
       "      <th>4</th>\n",
       "      <td>AP</td>\n",
       "      <td>Flooding Batters Southeast Australia</td>\n",
       "      <td>Australia</td>\n",
       "      <td>Floods</td>\n",
       "      <td>Coastal Areas</td>\n",
       "      <td>2022-10-15</td>\n",
       "      <td>multimedia</td>\n",
       "      <td>None</td>\n",
       "      <td>World</td>\n",
       "      <td>Video</td>\n",
       "      <td>0</td>\n",
       "    </tr>\n",
       "  </tbody>\n",
       "</table>\n",
       "</div>"
      ],
      "text/plain": [
       "               source                                           headline  \\\n",
       "0  The New York Times       Tensions Over Racism Rock Australian Netball   \n",
       "1  The New York Times  After Years of ‘Hell’ in ISIS Detention Camp, ...   \n",
       "2  The New York Times          How Australia Fell Behind on Data Privacy   \n",
       "3  The New York Times  New Crack in Apple’s Armor as Dozens Strike at...   \n",
       "4                  AP               Flooding Batters Southeast Australia   \n",
       "\n",
       "                        keyword1                                keyword2  \\\n",
       "0                      Australia                         Netball (Sport)   \n",
       "1  Al Hol Detention Camp (Syria)  Islamic State in Iraq and Syria (ISIS)   \n",
       "2       Cyberattacks and Hackers                                 Privacy   \n",
       "3                      Apple Inc                               Australia   \n",
       "4                      Australia                                  Floods   \n",
       "\n",
       "                                  keyword3    pub_date document_type  \\\n",
       "0                           Discrimination  2022-10-30       article   \n",
       "1                                Australia  2022-10-29       article   \n",
       "2  Regulation and Deregulation of Industry  2022-10-21       article   \n",
       "3                                  Strikes  2022-10-18       article   \n",
       "4                            Coastal Areas  2022-10-15    multimedia   \n",
       "\n",
       "  news_desk  section_name type_of_material  word_count  \n",
       "0   Foreign         World             News        1321  \n",
       "1   Foreign         World             News         910  \n",
       "2   Foreign         World             News        1054  \n",
       "3  Business  Business Day             News        1165  \n",
       "4      None         World            Video           0  "
      ]
     },
     "execution_count": 52,
     "metadata": {},
     "output_type": "execute_result"
    }
   ],
   "source": [
    "data_cl.head()"
   ]
  },
  {
   "cell_type": "code",
   "execution_count": null,
   "id": "75fea4a2",
   "metadata": {},
   "outputs": [],
   "source": []
  },
  {
   "cell_type": "markdown",
   "id": "d9e4211a",
   "metadata": {},
   "source": [
    "## Dealing with values of categorical columns"
   ]
  },
  {
   "cell_type": "markdown",
   "id": "9328faec",
   "metadata": {},
   "source": [
    "### Column \"source\""
   ]
  },
  {
   "cell_type": "code",
   "execution_count": 53,
   "id": "4597f9f6",
   "metadata": {},
   "outputs": [
    {
     "data": {
      "text/plain": [
       "The New York Times              13155\n",
       "International New York Times      274\n",
       "AP                                 33\n",
       "Reuters                            23\n",
       "Name: source, dtype: int64"
      ]
     },
     "execution_count": 53,
     "metadata": {},
     "output_type": "execute_result"
    }
   ],
   "source": [
    "data_cl['source'].value_counts(dropna=False)"
   ]
  },
  {
   "cell_type": "code",
   "execution_count": 54,
   "id": "7dbe8274",
   "metadata": {},
   "outputs": [],
   "source": [
    "def cleanSource(x):\n",
    "    if x in ['The New York Times']:\n",
    "        return 'NYT'\n",
    "    elif x in ['International New York Times']:\n",
    "        return 'InternationalNYT'\n",
    "    else:\n",
    "        return 'others'\n",
    "\n",
    "data_cl['source'] = list(map(cleanSource, data_cl['source']))"
   ]
  },
  {
   "cell_type": "code",
   "execution_count": 55,
   "id": "61068384",
   "metadata": {},
   "outputs": [
    {
     "data": {
      "text/plain": [
       "NYT                 13155\n",
       "InternationalNYT      274\n",
       "others                 56\n",
       "Name: source, dtype: int64"
      ]
     },
     "execution_count": 55,
     "metadata": {},
     "output_type": "execute_result"
    }
   ],
   "source": [
    "data_cl['source'].value_counts(dropna=False)"
   ]
  },
  {
   "cell_type": "code",
   "execution_count": null,
   "id": "bf988d6e",
   "metadata": {},
   "outputs": [],
   "source": []
  },
  {
   "cell_type": "markdown",
   "id": "955cdc34",
   "metadata": {},
   "source": [
    "### Column \"headline\""
   ]
  },
  {
   "cell_type": "code",
   "execution_count": 56,
   "id": "c6e99524",
   "metadata": {},
   "outputs": [
    {
     "data": {
      "text/plain": [
       "Coronavirus Briefing: What Happened Today                              101\n",
       "Your Monday Briefing                                                    83\n",
       "Your Tuesday Briefing                                                   80\n",
       "Your Friday Briefing                                                    77\n",
       "Your Thursday Briefing                                                  65\n",
       "                                                                      ... \n",
       "The Lockdown That Felt Like It Might Last Forever Has Finally Ended      1\n",
       "Australia, Tell Us the Places in the World You Love the Most             1\n",
       "In One of the World’s Longest Lockdowns, One Man Is Omnipresent          1\n",
       "The Great Barrier Reef Has Lost Half Its Corals                          1\n",
       "One Man’s Self-Imposed News ‘Blockade’                                   1\n",
       "Name: headline, Length: 12827, dtype: int64"
      ]
     },
     "execution_count": 56,
     "metadata": {},
     "output_type": "execute_result"
    }
   ],
   "source": [
    "data_cl['headline'].value_counts(dropna=False)"
   ]
  },
  {
   "cell_type": "code",
   "execution_count": 57,
   "id": "5fd3349b",
   "metadata": {},
   "outputs": [],
   "source": [
    "# 12827 unique values, not possible to use it as categorical \n",
    "# use it in a different nb for NLP Model\n",
    "# drop it later on"
   ]
  },
  {
   "cell_type": "code",
   "execution_count": null,
   "id": "dec2c0de",
   "metadata": {},
   "outputs": [],
   "source": []
  },
  {
   "cell_type": "markdown",
   "id": "21d303bb",
   "metadata": {},
   "source": [
    "### Column \"keyword1\""
   ]
  },
  {
   "cell_type": "code",
   "execution_count": 58,
   "id": "5f916968",
   "metadata": {},
   "outputs": [
    {
     "data": {
      "text/plain": [
       "None                                  2829\n",
       "Tennis                                 693\n",
       "Coronavirus (2019-nCoV)                543\n",
       "Australia                              288\n",
       "Books and Literature                   230\n",
       "                                      ... \n",
       "Qatar Airways                            1\n",
       "Imahara, Grant (1970-2020)               1\n",
       "Santa Cruz (Calif)                       1\n",
       "Green Lantern (Fictional Character       1\n",
       "Electoral College                        1\n",
       "Name: keyword1, Length: 2270, dtype: int64"
      ]
     },
     "execution_count": 58,
     "metadata": {},
     "output_type": "execute_result"
    }
   ],
   "source": [
    "data_cl['keyword1'].value_counts(dropna=False)"
   ]
  },
  {
   "cell_type": "code",
   "execution_count": 59,
   "id": "07b2de85",
   "metadata": {},
   "outputs": [],
   "source": [
    "def cleanKeyword(x):\n",
    "    if x in ['None']:\n",
    "        return 'None'\n",
    "    elif x in ['Australia']:\n",
    "        return 'Australia'    \n",
    "    elif x in ['Coronavirus (2019-nCoV)', 'Vaccination and Immunization']:\n",
    "        return 'Covid'          \n",
    "    elif x in ['Books and Literature', 'Movies', 'Television', 'Theater', 'Art']:\n",
    "        return 'Culture'   \n",
    "    elif x in ['Tennis', 'Australian Open (Tennis)', 'United States Open (Tennis)', 'French Open (Tennis)', 'Wimbledon Tennis Tournament', 'Djokovic, Novak']:\n",
    "        return 'Tennis'\n",
    "    elif x in ['China']:\n",
    "        return 'China'       \n",
    "    elif x in ['Politics and Government']:\n",
    "        return 'Politics and Government'        \n",
    "    elif x in ['Global Warming', 'Greenhouse Gas Emissions', '']:\n",
    "        return 'Global Warming'\n",
    "    elif x in ['Travel and Vacations']:\n",
    "        return 'Travel and Vacations'\n",
    "    elif x in ['United States International Relations', 'United States Politics and Government', 'Trump']:\n",
    "        return 'US politics and relations'\n",
    "    else:\n",
    "        return 'others'"
   ]
  },
  {
   "cell_type": "code",
   "execution_count": 60,
   "id": "506bec6a",
   "metadata": {},
   "outputs": [],
   "source": [
    "data_cl['keyword1'] = list(map(cleanKeyword, data_cl['keyword1']))"
   ]
  },
  {
   "cell_type": "code",
   "execution_count": 61,
   "id": "72cac0df",
   "metadata": {},
   "outputs": [
    {
     "data": {
      "text/plain": [
       "others                       7214\n",
       "None                         2829\n",
       "Tennis                        909\n",
       "Culture                       815\n",
       "Covid                         583\n",
       "Australia                     288\n",
       "Politics and Government       217\n",
       "US politics and relations     188\n",
       "Global Warming                161\n",
       "China                         144\n",
       "Travel and Vacations          137\n",
       "Name: keyword1, dtype: int64"
      ]
     },
     "execution_count": 61,
     "metadata": {},
     "output_type": "execute_result"
    }
   ],
   "source": [
    "data_cl['keyword1'].value_counts(dropna=False)"
   ]
  },
  {
   "cell_type": "markdown",
   "id": "8d704f22",
   "metadata": {},
   "source": [
    "### Column \"keyword2\""
   ]
  },
  {
   "cell_type": "code",
   "execution_count": 62,
   "id": "9a87f6b0",
   "metadata": {},
   "outputs": [
    {
     "data": {
      "text/plain": [
       "None                                    3321\n",
       "Coronavirus (2019-nCoV)                  271\n",
       "Tennis                                   206\n",
       "Australia                                187\n",
       "Politics and Government                  177\n",
       "                                        ... \n",
       "Borotra, Jean                              1\n",
       "Winton, Tim                                1\n",
       "Weller, Kurt (Crossword Constructor)       1\n",
       "Cromwell, James                            1\n",
       "House Committee on Intelligence            1\n",
       "Name: keyword2, Length: 2818, dtype: int64"
      ]
     },
     "execution_count": 62,
     "metadata": {},
     "output_type": "execute_result"
    }
   ],
   "source": [
    "data_cl['keyword2'].value_counts(dropna=False)"
   ]
  },
  {
   "cell_type": "code",
   "execution_count": 63,
   "id": "8f0b4649",
   "metadata": {},
   "outputs": [],
   "source": [
    "data_cl['keyword2'] = list(map(cleanKeyword, data_cl['keyword2']))"
   ]
  },
  {
   "cell_type": "code",
   "execution_count": 64,
   "id": "cca4908c",
   "metadata": {},
   "outputs": [
    {
     "data": {
      "text/plain": [
       "others                       8040\n",
       "None                         3321\n",
       "Tennis                        702\n",
       "Covid                         351\n",
       "Culture                       271\n",
       "Australia                     187\n",
       "Politics and Government       177\n",
       "US politics and relations     137\n",
       "Global Warming                121\n",
       "China                         113\n",
       "Travel and Vacations           65\n",
       "Name: keyword2, dtype: int64"
      ]
     },
     "execution_count": 64,
     "metadata": {},
     "output_type": "execute_result"
    }
   ],
   "source": [
    "data_cl['keyword2'].value_counts(dropna=False)"
   ]
  },
  {
   "cell_type": "markdown",
   "id": "b4463b30",
   "metadata": {},
   "source": [
    "### Column \"keyword3\""
   ]
  },
  {
   "cell_type": "code",
   "execution_count": 65,
   "id": "5cf191e6",
   "metadata": {},
   "outputs": [
    {
     "data": {
      "text/plain": [
       "None                                      3808\n",
       "Australia                                  240\n",
       "Coronavirus (2019-nCoV)                    201\n",
       "Politics and Government                    146\n",
       "United States Politics and Government       80\n",
       "                                          ... \n",
       "Sex                                          1\n",
       "Tripp, Linda R                               1\n",
       "Civil Rights Movement (1954-68)              1\n",
       "Reggae Music                                 1\n",
       "Reading and Writing Skills (Education)       1\n",
       "Name: keyword3, Length: 3319, dtype: int64"
      ]
     },
     "execution_count": 65,
     "metadata": {},
     "output_type": "execute_result"
    }
   ],
   "source": [
    "data_cl['keyword3'].value_counts(dropna=False)"
   ]
  },
  {
   "cell_type": "code",
   "execution_count": 66,
   "id": "82b4d5ad",
   "metadata": {},
   "outputs": [],
   "source": [
    "data_cl['keyword3'] = list(map(cleanKeyword, data_cl['keyword3']))"
   ]
  },
  {
   "cell_type": "code",
   "execution_count": 67,
   "id": "86da2284",
   "metadata": {},
   "outputs": [
    {
     "data": {
      "text/plain": [
       "others                       8313\n",
       "None                         3808\n",
       "Covid                         265\n",
       "Australia                     240\n",
       "Tennis                        230\n",
       "Politics and Government       146\n",
       "US politics and relations     145\n",
       "Culture                       114\n",
       "Global Warming                107\n",
       "China                          71\n",
       "Travel and Vacations           46\n",
       "Name: keyword3, dtype: int64"
      ]
     },
     "execution_count": 67,
     "metadata": {},
     "output_type": "execute_result"
    }
   ],
   "source": [
    "data_cl['keyword3'].value_counts(dropna=False)"
   ]
  },
  {
   "cell_type": "markdown",
   "id": "6c266856",
   "metadata": {},
   "source": [
    "### Column \"document_type\""
   ]
  },
  {
   "cell_type": "code",
   "execution_count": 68,
   "id": "ce214397",
   "metadata": {},
   "outputs": [
    {
     "data": {
      "text/plain": [
       "article       12818\n",
       "multimedia      666\n",
       "audio             1\n",
       "Name: document_type, dtype: int64"
      ]
     },
     "execution_count": 68,
     "metadata": {},
     "output_type": "execute_result"
    }
   ],
   "source": [
    "data_cl['document_type'].value_counts(dropna=False)"
   ]
  },
  {
   "cell_type": "code",
   "execution_count": 69,
   "id": "5b0f8abd",
   "metadata": {},
   "outputs": [
    {
     "data": {
      "text/html": [
       "<div>\n",
       "<style scoped>\n",
       "    .dataframe tbody tr th:only-of-type {\n",
       "        vertical-align: middle;\n",
       "    }\n",
       "\n",
       "    .dataframe tbody tr th {\n",
       "        vertical-align: top;\n",
       "    }\n",
       "\n",
       "    .dataframe thead th {\n",
       "        text-align: right;\n",
       "    }\n",
       "</style>\n",
       "<table border=\"1\" class=\"dataframe\">\n",
       "  <thead>\n",
       "    <tr style=\"text-align: right;\">\n",
       "      <th></th>\n",
       "      <th>source</th>\n",
       "      <th>headline</th>\n",
       "      <th>keyword1</th>\n",
       "      <th>keyword2</th>\n",
       "      <th>keyword3</th>\n",
       "      <th>pub_date</th>\n",
       "      <th>document_type</th>\n",
       "      <th>news_desk</th>\n",
       "      <th>section_name</th>\n",
       "      <th>type_of_material</th>\n",
       "      <th>word_count</th>\n",
       "    </tr>\n",
       "  </thead>\n",
       "  <tbody>\n",
       "    <tr>\n",
       "      <th>11159</th>\n",
       "      <td>NYT</td>\n",
       "      <td>NYT: Back Story With The Times’s Aubrey Belford</td>\n",
       "      <td>None</td>\n",
       "      <td>None</td>\n",
       "      <td>None</td>\n",
       "      <td>2018-08-28</td>\n",
       "      <td>audio</td>\n",
       "      <td>None</td>\n",
       "      <td>Today's Headlines</td>\n",
       "      <td>Audio Podcast</td>\n",
       "      <td>0</td>\n",
       "    </tr>\n",
       "  </tbody>\n",
       "</table>\n",
       "</div>"
      ],
      "text/plain": [
       "      source                                         headline keyword1  \\\n",
       "11159    NYT  NYT: Back Story With The Times’s Aubrey Belford     None   \n",
       "\n",
       "      keyword2 keyword3    pub_date document_type news_desk  \\\n",
       "11159     None     None  2018-08-28         audio      None   \n",
       "\n",
       "            section_name type_of_material  word_count  \n",
       "11159  Today's Headlines    Audio Podcast           0  "
      ]
     },
     "execution_count": 69,
     "metadata": {},
     "output_type": "execute_result"
    }
   ],
   "source": [
    "data_cl[(data_cl['document_type']=='audio')].head()"
   ]
  },
  {
   "cell_type": "code",
   "execution_count": 70,
   "id": "3cb35404",
   "metadata": {},
   "outputs": [],
   "source": [
    "data_cl = data_cl.drop(labels=11159, axis=0)"
   ]
  },
  {
   "cell_type": "code",
   "execution_count": 71,
   "id": "0fa3f519",
   "metadata": {},
   "outputs": [],
   "source": [
    "data_cl = data_cl[data_cl.document_type != 'multimedia']\n"
   ]
  },
  {
   "cell_type": "markdown",
   "id": "e6441a46",
   "metadata": {},
   "source": [
    "### Column \"news_desk\""
   ]
  },
  {
   "cell_type": "code",
   "execution_count": 72,
   "id": "3a6394d5",
   "metadata": {},
   "outputs": [
    {
     "data": {
      "text/plain": [
       "NYTNow             2683\n",
       "Foreign            2400\n",
       "Sports             1503\n",
       "Business            787\n",
       "Culture             598\n",
       "OpEd                549\n",
       "Science             432\n",
       "SpecialSections     325\n",
       "Washington          267\n",
       "Styles              267\n",
       "Obits               248\n",
       "Dining              228\n",
       "BookReview          208\n",
       "Arts&Leisure        202\n",
       "Weekend             200\n",
       "Travel              189\n",
       "Express             188\n",
       "National            161\n",
       "Climate             151\n",
       "Magazine            125\n",
       "TStyle              105\n",
       "Well                 96\n",
       "Learning             91\n",
       "RealEstate           75\n",
       "SundayBusiness       72\n",
       "Metro                70\n",
       "Letters              55\n",
       "Society              54\n",
       "NewsDesk             48\n",
       "Corrections          42\n",
       "Parenting            38\n",
       "Editorial            37\n",
       "Games                35\n",
       "Metropolitan         32\n",
       "Summary              29\n",
       "Podcasts             29\n",
       "Politics             28\n",
       "Watching             28\n",
       "AtHome               21\n",
       "Investigative        21\n",
       "Upshot               21\n",
       "Insider              20\n",
       "NYTI                 15\n",
       "Smarter Living       14\n",
       "Gender               10\n",
       "Books                 9\n",
       "Photo                 7\n",
       "Universal             3\n",
       "Test                  1\n",
       "None                  1\n",
       "Name: news_desk, dtype: int64"
      ]
     },
     "execution_count": 72,
     "metadata": {},
     "output_type": "execute_result"
    }
   ],
   "source": [
    "data_cl['news_desk'].value_counts(dropna=False)"
   ]
  },
  {
   "cell_type": "code",
   "execution_count": 73,
   "id": "18cc25d7",
   "metadata": {},
   "outputs": [],
   "source": [
    "def cleanNewsdesk(x):\n",
    "    if x in ['NYTNow']:\n",
    "        return 'NYTNow'\n",
    "    elif x in ['Foreign']:\n",
    "        return 'Foreign'    \n",
    "    elif x in ['Sports']:\n",
    "        return 'Sports'          \n",
    "    elif x in ['Business']:\n",
    "        return 'Business'   \n",
    "    elif x in ['Culture']:\n",
    "        return 'Culture'\n",
    "    elif x in ['OpEd']:\n",
    "        return 'OpEd'       \n",
    "    elif x in ['Science']:\n",
    "        return 'Science'  \n",
    "    elif x in ['SpecialSections']:\n",
    "        return 'SpecialSections'\n",
    "    elif x in ['Washington']:\n",
    "        return 'Washington'\n",
    "    elif x in ['Styles']:\n",
    "        return 'Styles'\n",
    "    elif x in ['Magazine']:\n",
    "        return 'Magazine'\n",
    "    elif x in ['Obits']:\n",
    "        return 'Obits'\n",
    "    elif x in ['Dining']:\n",
    "        return 'Dining'\n",
    "    elif x in ['BookReview']:\n",
    "        return 'BookReview'\n",
    "    elif x in ['Arts&Leisure']:\n",
    "        return 'Arts&Leisure'\n",
    "    elif x in ['Travel']:\n",
    "        return 'Travel'\n",
    "    elif x in ['Weekend']:\n",
    "        return 'Weekend'\n",
    "    elif x in ['Express']:\n",
    "        return 'Express'\n",
    "    elif x in ['Climate']:\n",
    "        return 'Climate'\n",
    "    elif x in ['National']:\n",
    "        return 'Natural'\n",
    "    elif x in ['Well']:\n",
    "        return 'Well'\n",
    "    elif x in ['TStyle']:\n",
    "        return 'TStyle'\n",
    "    else:\n",
    "        return 'others'"
   ]
  },
  {
   "cell_type": "code",
   "execution_count": 74,
   "id": "409453e4",
   "metadata": {},
   "outputs": [],
   "source": [
    "data_cl['news_desk'] = list(map(cleanNewsdesk, data_cl['news_desk']))"
   ]
  },
  {
   "cell_type": "code",
   "execution_count": 75,
   "id": "6ce0d7a2",
   "metadata": {},
   "outputs": [
    {
     "data": {
      "text/plain": [
       "NYTNow             2683\n",
       "Foreign            2400\n",
       "Sports             1503\n",
       "others              906\n",
       "Business            787\n",
       "Culture             598\n",
       "OpEd                549\n",
       "Science             432\n",
       "SpecialSections     325\n",
       "Washington          267\n",
       "Styles              267\n",
       "Obits               248\n",
       "Dining              228\n",
       "BookReview          208\n",
       "Arts&Leisure        202\n",
       "Weekend             200\n",
       "Travel              189\n",
       "Express             188\n",
       "Natural             161\n",
       "Climate             151\n",
       "Magazine            125\n",
       "TStyle              105\n",
       "Well                 96\n",
       "Name: news_desk, dtype: int64"
      ]
     },
     "execution_count": 75,
     "metadata": {},
     "output_type": "execute_result"
    }
   ],
   "source": [
    "data_cl['news_desk'].value_counts(dropna=False)"
   ]
  },
  {
   "cell_type": "markdown",
   "id": "0bfc5ba3",
   "metadata": {},
   "source": [
    "### Column \"section_name\""
   ]
  },
  {
   "cell_type": "code",
   "execution_count": 76,
   "id": "dc26725c",
   "metadata": {},
   "outputs": [
    {
     "data": {
      "text/plain": [
       "Briefing                2660\n",
       "World                   2497\n",
       "Sports                  1717\n",
       "Arts                     736\n",
       "Business Day             726\n",
       "Opinion                  625\n",
       "U.S.                     590\n",
       "Science                  304\n",
       "Books                    261\n",
       "Style                    233\n",
       "Food                     230\n",
       "Movies                   198\n",
       "Travel                   197\n",
       "Technology               176\n",
       "Climate                  169\n",
       "Health                   156\n",
       "Fashion & Style          145\n",
       "Theater                  127\n",
       "Magazine                 124\n",
       "New York                 105\n",
       "T Magazine               105\n",
       "Well                     102\n",
       "Obituaries                99\n",
       "The Learning Network      92\n",
       "Real Estate               91\n",
       "Podcasts                  44\n",
       "Corrections               42\n",
       "Parenting                 38\n",
       "Crosswords & Games        36\n",
       "Reader Center             31\n",
       "Watching                  29\n",
       "The Upshot                23\n",
       "Times Insider             22\n",
       "At Home                   22\n",
       "Smarter Living            14\n",
       "Today’s Paper             13\n",
       "Sunday Review              7\n",
       "Education                  7\n",
       "Lens                       6\n",
       "Special Series             5\n",
       "Your Money                 5\n",
       "International Home         2\n",
       "Admin                      2\n",
       "Neediest Cases             2\n",
       "Universal                  1\n",
       "The Weekly                 1\n",
       "Multimedia/Photos          1\n",
       "Name: section_name, dtype: int64"
      ]
     },
     "execution_count": 76,
     "metadata": {},
     "output_type": "execute_result"
    }
   ],
   "source": [
    "data_cl['section_name'].value_counts(dropna=False)"
   ]
  },
  {
   "cell_type": "code",
   "execution_count": 77,
   "id": "d21e118a",
   "metadata": {},
   "outputs": [],
   "source": [
    "def cleanSection(x):\n",
    "    if x in ['Briefing']:\n",
    "        return 'Briefing'\n",
    "    elif x in ['World']:\n",
    "        return 'World'    \n",
    "    elif x in ['Sports']:\n",
    "        return 'Sports' \n",
    "    elif x in ['Arts']:\n",
    "        return 'Arts'   \n",
    "    elif x in ['Business Day']:\n",
    "        return 'Business Day'\n",
    "    elif x in ['Opinion']:\n",
    "        return 'Opinion'    \n",
    "    elif x in ['U.S.']:\n",
    "        return 'U.S.'  \n",
    "    elif x in ['Science']:\n",
    "        return 'Science'  \n",
    "    elif x in ['Books']:\n",
    "        return 'Books'\n",
    "    elif x in ['Magazine']:\n",
    "        return 'Magazine'\n",
    "    elif x in ['Food']:\n",
    "        return 'Food'\n",
    "    elif x in ['Style']:\n",
    "        return 'Style'\n",
    "    elif x in ['Travel']:\n",
    "        return 'Travel'\n",
    "    elif x in ['Movies']:\n",
    "        return 'Movies'\n",
    "    elif x in ['Climate']:\n",
    "        return 'Climate'\n",
    "    elif x in ['Technology']:\n",
    "        return 'Technology'\n",
    "    elif x in ['Health']:\n",
    "        return 'Health'\n",
    "    elif x in ['Fashion & Style']:\n",
    "        return 'Fashion&Style'\n",
    "    elif x in ['Theater']:\n",
    "        return 'Theater'\n",
    "    elif x in ['The Learning Network']:\n",
    "        return 'The Learning Network'\n",
    "    elif x in ['T Magazine']:\n",
    "        return 'T Magazine'\n",
    "    elif x in ['Obituaries']:\n",
    "        return 'Obit'\n",
    "    elif x in ['Well']:\n",
    "        return 'Well'\n",
    "    elif x in ['New York']:\n",
    "        return 'New York'\n",
    "    else:\n",
    "        return 'others'"
   ]
  },
  {
   "cell_type": "code",
   "execution_count": 78,
   "id": "55084519",
   "metadata": {},
   "outputs": [],
   "source": [
    "data_cl['section_name'] = list(map(cleanSection, data_cl['section_name']))"
   ]
  },
  {
   "cell_type": "code",
   "execution_count": 79,
   "id": "0b8510c9",
   "metadata": {},
   "outputs": [
    {
     "data": {
      "text/plain": [
       "Briefing                2660\n",
       "World                   2497\n",
       "Sports                  1717\n",
       "Arts                     736\n",
       "Business Day             726\n",
       "Opinion                  625\n",
       "U.S.                     590\n",
       "others                   444\n",
       "Science                  304\n",
       "Books                    261\n",
       "Style                    233\n",
       "Food                     230\n",
       "Movies                   198\n",
       "Travel                   197\n",
       "Technology               176\n",
       "Climate                  169\n",
       "Health                   156\n",
       "Fashion&Style            145\n",
       "Theater                  127\n",
       "Magazine                 124\n",
       "T Magazine               105\n",
       "New York                 105\n",
       "Well                     102\n",
       "Obit                      99\n",
       "The Learning Network      92\n",
       "Name: section_name, dtype: int64"
      ]
     },
     "execution_count": 79,
     "metadata": {},
     "output_type": "execute_result"
    }
   ],
   "source": [
    "data_cl['section_name'].value_counts(dropna=False)"
   ]
  },
  {
   "cell_type": "markdown",
   "id": "529871a9",
   "metadata": {},
   "source": [
    "### Column \"type_of_material\""
   ]
  },
  {
   "cell_type": "code",
   "execution_count": 80,
   "id": "54bedb0c",
   "metadata": {},
   "outputs": [
    {
     "data": {
      "text/plain": [
       "News               8682\n",
       "briefing           2757\n",
       "Op-Ed               542\n",
       "Review              278\n",
       "Obituary (Obit)     259\n",
       "Letter               66\n",
       "Newsletter           48\n",
       "Correction           36\n",
       "Editorial            34\n",
       "Schedule             31\n",
       "News Analysis        30\n",
       "List                 29\n",
       "Quote                10\n",
       "Biography             7\n",
       "Question              6\n",
       "An Appraisal          1\n",
       "Interview             1\n",
       "Text                  1\n",
       "Name: type_of_material, dtype: int64"
      ]
     },
     "execution_count": 80,
     "metadata": {},
     "output_type": "execute_result"
    }
   ],
   "source": [
    "data_cl['type_of_material'].value_counts(dropna=False)"
   ]
  },
  {
   "cell_type": "code",
   "execution_count": 81,
   "id": "946af265",
   "metadata": {},
   "outputs": [],
   "source": [
    "def cleanMaterial(x):\n",
    "    if x in ['News']:\n",
    "        return 'News'\n",
    "    elif x in ['briefing']:\n",
    "        return 'Briefing'    \n",
    "    elif x in ['Interactive Feature']:\n",
    "        return 'Interactive Feature' \n",
    "    elif x in ['Op-Ed']:\n",
    "        return 'OpEd'   \n",
    "    elif x in ['Review']:\n",
    "        return 'Review'\n",
    "    elif x in ['Obituary (Obit)']:\n",
    "        return 'Obit'    \n",
    "    else:\n",
    "        return 'others'"
   ]
  },
  {
   "cell_type": "code",
   "execution_count": 82,
   "id": "6f097f6d",
   "metadata": {},
   "outputs": [],
   "source": [
    "data_cl['type_of_material'] = list(map(cleanMaterial, data_cl['type_of_material']))"
   ]
  },
  {
   "cell_type": "code",
   "execution_count": 83,
   "id": "5fbc6b5d",
   "metadata": {},
   "outputs": [
    {
     "data": {
      "text/plain": [
       "News        8682\n",
       "Briefing    2757\n",
       "OpEd         542\n",
       "others       300\n",
       "Review       278\n",
       "Obit         259\n",
       "Name: type_of_material, dtype: int64"
      ]
     },
     "execution_count": 83,
     "metadata": {},
     "output_type": "execute_result"
    }
   ],
   "source": [
    "data_cl['type_of_material'].value_counts(dropna=False)"
   ]
  },
  {
   "cell_type": "code",
   "execution_count": 84,
   "id": "31a471d1",
   "metadata": {},
   "outputs": [
    {
     "data": {
      "text/html": [
       "<div>\n",
       "<style scoped>\n",
       "    .dataframe tbody tr th:only-of-type {\n",
       "        vertical-align: middle;\n",
       "    }\n",
       "\n",
       "    .dataframe tbody tr th {\n",
       "        vertical-align: top;\n",
       "    }\n",
       "\n",
       "    .dataframe thead th {\n",
       "        text-align: right;\n",
       "    }\n",
       "</style>\n",
       "<table border=\"1\" class=\"dataframe\">\n",
       "  <thead>\n",
       "    <tr style=\"text-align: right;\">\n",
       "      <th></th>\n",
       "      <th>source</th>\n",
       "      <th>headline</th>\n",
       "      <th>keyword1</th>\n",
       "      <th>keyword2</th>\n",
       "      <th>keyword3</th>\n",
       "      <th>pub_date</th>\n",
       "      <th>document_type</th>\n",
       "      <th>news_desk</th>\n",
       "      <th>section_name</th>\n",
       "      <th>type_of_material</th>\n",
       "      <th>word_count</th>\n",
       "    </tr>\n",
       "  </thead>\n",
       "  <tbody>\n",
       "    <tr>\n",
       "      <th>0</th>\n",
       "      <td>NYT</td>\n",
       "      <td>Tensions Over Racism Rock Australian Netball</td>\n",
       "      <td>Australia</td>\n",
       "      <td>others</td>\n",
       "      <td>others</td>\n",
       "      <td>2022-10-30</td>\n",
       "      <td>article</td>\n",
       "      <td>Foreign</td>\n",
       "      <td>World</td>\n",
       "      <td>News</td>\n",
       "      <td>1321</td>\n",
       "    </tr>\n",
       "    <tr>\n",
       "      <th>1</th>\n",
       "      <td>NYT</td>\n",
       "      <td>After Years of ‘Hell’ in ISIS Detention Camp, ...</td>\n",
       "      <td>others</td>\n",
       "      <td>others</td>\n",
       "      <td>Australia</td>\n",
       "      <td>2022-10-29</td>\n",
       "      <td>article</td>\n",
       "      <td>Foreign</td>\n",
       "      <td>World</td>\n",
       "      <td>News</td>\n",
       "      <td>910</td>\n",
       "    </tr>\n",
       "    <tr>\n",
       "      <th>2</th>\n",
       "      <td>NYT</td>\n",
       "      <td>How Australia Fell Behind on Data Privacy</td>\n",
       "      <td>others</td>\n",
       "      <td>others</td>\n",
       "      <td>others</td>\n",
       "      <td>2022-10-21</td>\n",
       "      <td>article</td>\n",
       "      <td>Foreign</td>\n",
       "      <td>World</td>\n",
       "      <td>News</td>\n",
       "      <td>1054</td>\n",
       "    </tr>\n",
       "    <tr>\n",
       "      <th>3</th>\n",
       "      <td>NYT</td>\n",
       "      <td>New Crack in Apple’s Armor as Dozens Strike at...</td>\n",
       "      <td>others</td>\n",
       "      <td>Australia</td>\n",
       "      <td>others</td>\n",
       "      <td>2022-10-18</td>\n",
       "      <td>article</td>\n",
       "      <td>Business</td>\n",
       "      <td>Business Day</td>\n",
       "      <td>News</td>\n",
       "      <td>1165</td>\n",
       "    </tr>\n",
       "    <tr>\n",
       "      <th>5</th>\n",
       "      <td>NYT</td>\n",
       "      <td>Rising Waters Again Force Evacuations and Spre...</td>\n",
       "      <td>Australia</td>\n",
       "      <td>others</td>\n",
       "      <td>others</td>\n",
       "      <td>2022-10-15</td>\n",
       "      <td>article</td>\n",
       "      <td>Foreign</td>\n",
       "      <td>World</td>\n",
       "      <td>News</td>\n",
       "      <td>395</td>\n",
       "    </tr>\n",
       "  </tbody>\n",
       "</table>\n",
       "</div>"
      ],
      "text/plain": [
       "  source                                           headline   keyword1  \\\n",
       "0    NYT       Tensions Over Racism Rock Australian Netball  Australia   \n",
       "1    NYT  After Years of ‘Hell’ in ISIS Detention Camp, ...     others   \n",
       "2    NYT          How Australia Fell Behind on Data Privacy     others   \n",
       "3    NYT  New Crack in Apple’s Armor as Dozens Strike at...     others   \n",
       "5    NYT  Rising Waters Again Force Evacuations and Spre...  Australia   \n",
       "\n",
       "    keyword2   keyword3    pub_date document_type news_desk  section_name  \\\n",
       "0     others     others  2022-10-30       article   Foreign         World   \n",
       "1     others  Australia  2022-10-29       article   Foreign         World   \n",
       "2     others     others  2022-10-21       article   Foreign         World   \n",
       "3  Australia     others  2022-10-18       article  Business  Business Day   \n",
       "5     others     others  2022-10-15       article   Foreign         World   \n",
       "\n",
       "  type_of_material  word_count  \n",
       "0             News        1321  \n",
       "1             News         910  \n",
       "2             News        1054  \n",
       "3             News        1165  \n",
       "5             News         395  "
      ]
     },
     "execution_count": 84,
     "metadata": {},
     "output_type": "execute_result"
    }
   ],
   "source": [
    "data_cl.head()"
   ]
  },
  {
   "cell_type": "code",
   "execution_count": null,
   "id": "2c3fed39",
   "metadata": {},
   "outputs": [],
   "source": []
  },
  {
   "cell_type": "markdown",
   "id": "3ab1bb28",
   "metadata": {},
   "source": [
    "## Dropround Nr. 2:"
   ]
  },
  {
   "cell_type": "code",
   "execution_count": 85,
   "id": "b3bf036e",
   "metadata": {},
   "outputs": [],
   "source": [
    "# Because we just kept the articles of the NYT and droppend multimedia, we can get rid of the column all together:"
   ]
  },
  {
   "cell_type": "code",
   "execution_count": 86,
   "id": "8116d416",
   "metadata": {},
   "outputs": [],
   "source": [
    "data_cl = data_cl.drop(['document_type'], axis=1)"
   ]
  },
  {
   "cell_type": "code",
   "execution_count": null,
   "id": "7e239c5a",
   "metadata": {},
   "outputs": [],
   "source": []
  },
  {
   "cell_type": "markdown",
   "id": "ec31aac5",
   "metadata": {},
   "source": [
    "## 2 new columns: year and month"
   ]
  },
  {
   "cell_type": "code",
   "execution_count": 87,
   "id": "572e2dbb",
   "metadata": {},
   "outputs": [],
   "source": [
    "data_cl['month'] = pd.DatetimeIndex(data_cl['pub_date']).month  #creating a month column from the date column\n",
    "   \n",
    "data_cl['year'] = pd.DatetimeIndex(data_cl['pub_date']).year  #creating a year column from the date column"
   ]
  },
  {
   "cell_type": "code",
   "execution_count": 88,
   "id": "0db6a8b1",
   "metadata": {},
   "outputs": [
    {
     "data": {
      "text/html": [
       "<div>\n",
       "<style scoped>\n",
       "    .dataframe tbody tr th:only-of-type {\n",
       "        vertical-align: middle;\n",
       "    }\n",
       "\n",
       "    .dataframe tbody tr th {\n",
       "        vertical-align: top;\n",
       "    }\n",
       "\n",
       "    .dataframe thead th {\n",
       "        text-align: right;\n",
       "    }\n",
       "</style>\n",
       "<table border=\"1\" class=\"dataframe\">\n",
       "  <thead>\n",
       "    <tr style=\"text-align: right;\">\n",
       "      <th></th>\n",
       "      <th>source</th>\n",
       "      <th>headline</th>\n",
       "      <th>keyword1</th>\n",
       "      <th>keyword2</th>\n",
       "      <th>keyword3</th>\n",
       "      <th>pub_date</th>\n",
       "      <th>news_desk</th>\n",
       "      <th>section_name</th>\n",
       "      <th>type_of_material</th>\n",
       "      <th>word_count</th>\n",
       "      <th>month</th>\n",
       "      <th>year</th>\n",
       "    </tr>\n",
       "  </thead>\n",
       "  <tbody>\n",
       "    <tr>\n",
       "      <th>14049</th>\n",
       "      <td>NYT</td>\n",
       "      <td>Understanding Rural America’s Gun Culture</td>\n",
       "      <td>others</td>\n",
       "      <td>others</td>\n",
       "      <td>None</td>\n",
       "      <td>2018-03-24</td>\n",
       "      <td>others</td>\n",
       "      <td>Opinion</td>\n",
       "      <td>others</td>\n",
       "      <td>1300</td>\n",
       "      <td>3</td>\n",
       "      <td>2018</td>\n",
       "    </tr>\n",
       "    <tr>\n",
       "      <th>14050</th>\n",
       "      <td>NYT</td>\n",
       "      <td>Corrections: November 28, 2017</td>\n",
       "      <td>None</td>\n",
       "      <td>None</td>\n",
       "      <td>None</td>\n",
       "      <td>2017-11-28</td>\n",
       "      <td>others</td>\n",
       "      <td>others</td>\n",
       "      <td>others</td>\n",
       "      <td>621</td>\n",
       "      <td>11</td>\n",
       "      <td>2017</td>\n",
       "    </tr>\n",
       "    <tr>\n",
       "      <th>14051</th>\n",
       "      <td>NYT</td>\n",
       "      <td>No, Mr. President, It Is ‘a Guns Situation’</td>\n",
       "      <td>others</td>\n",
       "      <td>others</td>\n",
       "      <td>others</td>\n",
       "      <td>2017-11-06</td>\n",
       "      <td>others</td>\n",
       "      <td>Opinion</td>\n",
       "      <td>others</td>\n",
       "      <td>828</td>\n",
       "      <td>11</td>\n",
       "      <td>2017</td>\n",
       "    </tr>\n",
       "    <tr>\n",
       "      <th>14052</th>\n",
       "      <td>NYT</td>\n",
       "      <td>A Better Way to Elect a President?</td>\n",
       "      <td>others</td>\n",
       "      <td>others</td>\n",
       "      <td>US politics and relations</td>\n",
       "      <td>2017-11-18</td>\n",
       "      <td>others</td>\n",
       "      <td>Opinion</td>\n",
       "      <td>others</td>\n",
       "      <td>1215</td>\n",
       "      <td>11</td>\n",
       "      <td>2017</td>\n",
       "    </tr>\n",
       "    <tr>\n",
       "      <th>14053</th>\n",
       "      <td>NYT</td>\n",
       "      <td>One Man’s Self-Imposed News ‘Blockade’</td>\n",
       "      <td>others</td>\n",
       "      <td>others</td>\n",
       "      <td>US politics and relations</td>\n",
       "      <td>2018-03-17</td>\n",
       "      <td>others</td>\n",
       "      <td>Opinion</td>\n",
       "      <td>others</td>\n",
       "      <td>1324</td>\n",
       "      <td>3</td>\n",
       "      <td>2018</td>\n",
       "    </tr>\n",
       "  </tbody>\n",
       "</table>\n",
       "</div>"
      ],
      "text/plain": [
       "      source                                     headline keyword1 keyword2  \\\n",
       "14049    NYT    Understanding Rural America’s Gun Culture   others   others   \n",
       "14050    NYT               Corrections: November 28, 2017     None     None   \n",
       "14051    NYT  No, Mr. President, It Is ‘a Guns Situation’   others   others   \n",
       "14052    NYT           A Better Way to Elect a President?   others   others   \n",
       "14053    NYT       One Man’s Self-Imposed News ‘Blockade’   others   others   \n",
       "\n",
       "                        keyword3    pub_date news_desk section_name  \\\n",
       "14049                       None  2018-03-24    others      Opinion   \n",
       "14050                       None  2017-11-28    others       others   \n",
       "14051                     others  2017-11-06    others      Opinion   \n",
       "14052  US politics and relations  2017-11-18    others      Opinion   \n",
       "14053  US politics and relations  2018-03-17    others      Opinion   \n",
       "\n",
       "      type_of_material  word_count  month  year  \n",
       "14049           others        1300      3  2018  \n",
       "14050           others         621     11  2017  \n",
       "14051           others         828     11  2017  \n",
       "14052           others        1215     11  2017  \n",
       "14053           others        1324      3  2018  "
      ]
     },
     "execution_count": 88,
     "metadata": {},
     "output_type": "execute_result"
    }
   ],
   "source": [
    "data_cl.tail()"
   ]
  },
  {
   "cell_type": "code",
   "execution_count": 89,
   "id": "c07f7b61",
   "metadata": {},
   "outputs": [
    {
     "data": {
      "text/plain": [
       "(12818, 12)"
      ]
     },
     "execution_count": 89,
     "metadata": {},
     "output_type": "execute_result"
    }
   ],
   "source": [
    "data_cl.shape"
   ]
  },
  {
   "cell_type": "markdown",
   "id": "6066d7bc",
   "metadata": {},
   "source": [
    "## Changing data types?"
   ]
  },
  {
   "cell_type": "code",
   "execution_count": 90,
   "id": "0a3a2e54",
   "metadata": {},
   "outputs": [
    {
     "name": "stdout",
     "output_type": "stream",
     "text": [
      "source                  2\n",
      "headline            12200\n",
      "keyword1               11\n",
      "keyword2               11\n",
      "keyword3               11\n",
      "pub_date             1804\n",
      "news_desk              23\n",
      "section_name           25\n",
      "type_of_material        6\n",
      "word_count           2566\n",
      "month                  12\n",
      "year                    6\n",
      "dtype: int64\n"
     ]
    }
   ],
   "source": [
    "print(data_cl.nunique())"
   ]
  },
  {
   "cell_type": "code",
   "execution_count": 91,
   "id": "b64b929c",
   "metadata": {},
   "outputs": [
    {
     "data": {
      "text/plain": [
       "source              object\n",
       "headline            object\n",
       "keyword1            object\n",
       "keyword2            object\n",
       "keyword3            object\n",
       "pub_date            object\n",
       "news_desk           object\n",
       "section_name        object\n",
       "type_of_material    object\n",
       "word_count           int64\n",
       "month                int64\n",
       "year                 int64\n",
       "dtype: object"
      ]
     },
     "execution_count": 91,
     "metadata": {},
     "output_type": "execute_result"
    }
   ],
   "source": [
    "data_cl.dtypes"
   ]
  },
  {
   "cell_type": "code",
   "execution_count": 92,
   "id": "530ce7b2",
   "metadata": {},
   "outputs": [
    {
     "data": {
      "text/html": [
       "<div>\n",
       "<style scoped>\n",
       "    .dataframe tbody tr th:only-of-type {\n",
       "        vertical-align: middle;\n",
       "    }\n",
       "\n",
       "    .dataframe tbody tr th {\n",
       "        vertical-align: top;\n",
       "    }\n",
       "\n",
       "    .dataframe thead th {\n",
       "        text-align: right;\n",
       "    }\n",
       "</style>\n",
       "<table border=\"1\" class=\"dataframe\">\n",
       "  <thead>\n",
       "    <tr style=\"text-align: right;\">\n",
       "      <th></th>\n",
       "      <th>source</th>\n",
       "      <th>headline</th>\n",
       "      <th>keyword1</th>\n",
       "      <th>keyword2</th>\n",
       "      <th>keyword3</th>\n",
       "      <th>pub_date</th>\n",
       "      <th>news_desk</th>\n",
       "      <th>section_name</th>\n",
       "      <th>type_of_material</th>\n",
       "      <th>word_count</th>\n",
       "      <th>month</th>\n",
       "      <th>year</th>\n",
       "    </tr>\n",
       "  </thead>\n",
       "  <tbody>\n",
       "    <tr>\n",
       "      <th>0</th>\n",
       "      <td>NYT</td>\n",
       "      <td>Tensions Over Racism Rock Australian Netball</td>\n",
       "      <td>Australia</td>\n",
       "      <td>others</td>\n",
       "      <td>others</td>\n",
       "      <td>2022-10-30</td>\n",
       "      <td>Foreign</td>\n",
       "      <td>World</td>\n",
       "      <td>News</td>\n",
       "      <td>1321</td>\n",
       "      <td>10</td>\n",
       "      <td>2022</td>\n",
       "    </tr>\n",
       "    <tr>\n",
       "      <th>1</th>\n",
       "      <td>NYT</td>\n",
       "      <td>After Years of ‘Hell’ in ISIS Detention Camp, ...</td>\n",
       "      <td>others</td>\n",
       "      <td>others</td>\n",
       "      <td>Australia</td>\n",
       "      <td>2022-10-29</td>\n",
       "      <td>Foreign</td>\n",
       "      <td>World</td>\n",
       "      <td>News</td>\n",
       "      <td>910</td>\n",
       "      <td>10</td>\n",
       "      <td>2022</td>\n",
       "    </tr>\n",
       "    <tr>\n",
       "      <th>2</th>\n",
       "      <td>NYT</td>\n",
       "      <td>How Australia Fell Behind on Data Privacy</td>\n",
       "      <td>others</td>\n",
       "      <td>others</td>\n",
       "      <td>others</td>\n",
       "      <td>2022-10-21</td>\n",
       "      <td>Foreign</td>\n",
       "      <td>World</td>\n",
       "      <td>News</td>\n",
       "      <td>1054</td>\n",
       "      <td>10</td>\n",
       "      <td>2022</td>\n",
       "    </tr>\n",
       "    <tr>\n",
       "      <th>3</th>\n",
       "      <td>NYT</td>\n",
       "      <td>New Crack in Apple’s Armor as Dozens Strike at...</td>\n",
       "      <td>others</td>\n",
       "      <td>Australia</td>\n",
       "      <td>others</td>\n",
       "      <td>2022-10-18</td>\n",
       "      <td>Business</td>\n",
       "      <td>Business Day</td>\n",
       "      <td>News</td>\n",
       "      <td>1165</td>\n",
       "      <td>10</td>\n",
       "      <td>2022</td>\n",
       "    </tr>\n",
       "    <tr>\n",
       "      <th>5</th>\n",
       "      <td>NYT</td>\n",
       "      <td>Rising Waters Again Force Evacuations and Spre...</td>\n",
       "      <td>Australia</td>\n",
       "      <td>others</td>\n",
       "      <td>others</td>\n",
       "      <td>2022-10-15</td>\n",
       "      <td>Foreign</td>\n",
       "      <td>World</td>\n",
       "      <td>News</td>\n",
       "      <td>395</td>\n",
       "      <td>10</td>\n",
       "      <td>2022</td>\n",
       "    </tr>\n",
       "  </tbody>\n",
       "</table>\n",
       "</div>"
      ],
      "text/plain": [
       "  source                                           headline   keyword1  \\\n",
       "0    NYT       Tensions Over Racism Rock Australian Netball  Australia   \n",
       "1    NYT  After Years of ‘Hell’ in ISIS Detention Camp, ...     others   \n",
       "2    NYT          How Australia Fell Behind on Data Privacy     others   \n",
       "3    NYT  New Crack in Apple’s Armor as Dozens Strike at...     others   \n",
       "5    NYT  Rising Waters Again Force Evacuations and Spre...  Australia   \n",
       "\n",
       "    keyword2   keyword3    pub_date news_desk  section_name type_of_material  \\\n",
       "0     others     others  2022-10-30   Foreign         World             News   \n",
       "1     others  Australia  2022-10-29   Foreign         World             News   \n",
       "2     others     others  2022-10-21   Foreign         World             News   \n",
       "3  Australia     others  2022-10-18  Business  Business Day             News   \n",
       "5     others     others  2022-10-15   Foreign         World             News   \n",
       "\n",
       "   word_count  month  year  \n",
       "0        1321     10  2022  \n",
       "1         910     10  2022  \n",
       "2        1054     10  2022  \n",
       "3        1165     10  2022  \n",
       "5         395     10  2022  "
      ]
     },
     "execution_count": 92,
     "metadata": {},
     "output_type": "execute_result"
    }
   ],
   "source": [
    "data_cl.head()"
   ]
  },
  {
   "cell_type": "code",
   "execution_count": 93,
   "id": "46e70885",
   "metadata": {},
   "outputs": [],
   "source": [
    "# Not necessary, all datatypes were "
   ]
  },
  {
   "cell_type": "markdown",
   "id": "d11b45bc",
   "metadata": {},
   "source": [
    "## Saving df as csv: "
   ]
  },
  {
   "cell_type": "code",
   "execution_count": 94,
   "id": "5986e56b",
   "metadata": {},
   "outputs": [],
   "source": [
    "data_cl.to_csv('NYT_Australia_articles_cleaned.csv', index=False)"
   ]
  },
  {
   "cell_type": "code",
   "execution_count": 95,
   "id": "5994111e",
   "metadata": {},
   "outputs": [
    {
     "data": {
      "text/html": [
       "<div>\n",
       "<style scoped>\n",
       "    .dataframe tbody tr th:only-of-type {\n",
       "        vertical-align: middle;\n",
       "    }\n",
       "\n",
       "    .dataframe tbody tr th {\n",
       "        vertical-align: top;\n",
       "    }\n",
       "\n",
       "    .dataframe thead th {\n",
       "        text-align: right;\n",
       "    }\n",
       "</style>\n",
       "<table border=\"1\" class=\"dataframe\">\n",
       "  <thead>\n",
       "    <tr style=\"text-align: right;\">\n",
       "      <th></th>\n",
       "      <th>source</th>\n",
       "      <th>headline</th>\n",
       "      <th>keyword1</th>\n",
       "      <th>keyword2</th>\n",
       "      <th>keyword3</th>\n",
       "      <th>pub_date</th>\n",
       "      <th>news_desk</th>\n",
       "      <th>section_name</th>\n",
       "      <th>type_of_material</th>\n",
       "      <th>word_count</th>\n",
       "      <th>month</th>\n",
       "      <th>year</th>\n",
       "    </tr>\n",
       "  </thead>\n",
       "  <tbody>\n",
       "    <tr>\n",
       "      <th>0</th>\n",
       "      <td>NYT</td>\n",
       "      <td>Tensions Over Racism Rock Australian Netball</td>\n",
       "      <td>Australia</td>\n",
       "      <td>others</td>\n",
       "      <td>others</td>\n",
       "      <td>2022-10-30</td>\n",
       "      <td>Foreign</td>\n",
       "      <td>World</td>\n",
       "      <td>News</td>\n",
       "      <td>1321</td>\n",
       "      <td>10</td>\n",
       "      <td>2022</td>\n",
       "    </tr>\n",
       "    <tr>\n",
       "      <th>1</th>\n",
       "      <td>NYT</td>\n",
       "      <td>After Years of ‘Hell’ in ISIS Detention Camp, ...</td>\n",
       "      <td>others</td>\n",
       "      <td>others</td>\n",
       "      <td>Australia</td>\n",
       "      <td>2022-10-29</td>\n",
       "      <td>Foreign</td>\n",
       "      <td>World</td>\n",
       "      <td>News</td>\n",
       "      <td>910</td>\n",
       "      <td>10</td>\n",
       "      <td>2022</td>\n",
       "    </tr>\n",
       "    <tr>\n",
       "      <th>2</th>\n",
       "      <td>NYT</td>\n",
       "      <td>How Australia Fell Behind on Data Privacy</td>\n",
       "      <td>others</td>\n",
       "      <td>others</td>\n",
       "      <td>others</td>\n",
       "      <td>2022-10-21</td>\n",
       "      <td>Foreign</td>\n",
       "      <td>World</td>\n",
       "      <td>News</td>\n",
       "      <td>1054</td>\n",
       "      <td>10</td>\n",
       "      <td>2022</td>\n",
       "    </tr>\n",
       "    <tr>\n",
       "      <th>3</th>\n",
       "      <td>NYT</td>\n",
       "      <td>New Crack in Apple’s Armor as Dozens Strike at...</td>\n",
       "      <td>others</td>\n",
       "      <td>Australia</td>\n",
       "      <td>others</td>\n",
       "      <td>2022-10-18</td>\n",
       "      <td>Business</td>\n",
       "      <td>Business Day</td>\n",
       "      <td>News</td>\n",
       "      <td>1165</td>\n",
       "      <td>10</td>\n",
       "      <td>2022</td>\n",
       "    </tr>\n",
       "    <tr>\n",
       "      <th>5</th>\n",
       "      <td>NYT</td>\n",
       "      <td>Rising Waters Again Force Evacuations and Spre...</td>\n",
       "      <td>Australia</td>\n",
       "      <td>others</td>\n",
       "      <td>others</td>\n",
       "      <td>2022-10-15</td>\n",
       "      <td>Foreign</td>\n",
       "      <td>World</td>\n",
       "      <td>News</td>\n",
       "      <td>395</td>\n",
       "      <td>10</td>\n",
       "      <td>2022</td>\n",
       "    </tr>\n",
       "  </tbody>\n",
       "</table>\n",
       "</div>"
      ],
      "text/plain": [
       "  source                                           headline   keyword1  \\\n",
       "0    NYT       Tensions Over Racism Rock Australian Netball  Australia   \n",
       "1    NYT  After Years of ‘Hell’ in ISIS Detention Camp, ...     others   \n",
       "2    NYT          How Australia Fell Behind on Data Privacy     others   \n",
       "3    NYT  New Crack in Apple’s Armor as Dozens Strike at...     others   \n",
       "5    NYT  Rising Waters Again Force Evacuations and Spre...  Australia   \n",
       "\n",
       "    keyword2   keyword3    pub_date news_desk  section_name type_of_material  \\\n",
       "0     others     others  2022-10-30   Foreign         World             News   \n",
       "1     others  Australia  2022-10-29   Foreign         World             News   \n",
       "2     others     others  2022-10-21   Foreign         World             News   \n",
       "3  Australia     others  2022-10-18  Business  Business Day             News   \n",
       "5     others     others  2022-10-15   Foreign         World             News   \n",
       "\n",
       "   word_count  month  year  \n",
       "0        1321     10  2022  \n",
       "1         910     10  2022  \n",
       "2        1054     10  2022  \n",
       "3        1165     10  2022  \n",
       "5         395     10  2022  "
      ]
     },
     "execution_count": 95,
     "metadata": {},
     "output_type": "execute_result"
    }
   ],
   "source": [
    "data_cl.head()"
   ]
  },
  {
   "cell_type": "code",
   "execution_count": null,
   "id": "a1ca9dca",
   "metadata": {},
   "outputs": [],
   "source": []
  }
 ],
 "metadata": {
  "kernelspec": {
   "display_name": "Python 3 (ipykernel)",
   "language": "python",
   "name": "python3"
  },
  "language_info": {
   "codemirror_mode": {
    "name": "ipython",
    "version": 3
   },
   "file_extension": ".py",
   "mimetype": "text/x-python",
   "name": "python",
   "nbconvert_exporter": "python",
   "pygments_lexer": "ipython3",
   "version": "3.9.12"
  }
 },
 "nbformat": 4,
 "nbformat_minor": 5
}
